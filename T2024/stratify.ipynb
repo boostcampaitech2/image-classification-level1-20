{
 "cells": [
  {
   "cell_type": "code",
   "execution_count": 39,
   "source": [
    "import pandas as pd\n",
    "import numpy as np\n",
    "import random\n",
    "\n",
    "from collections import defaultdict\n",
    "from itertools import chain\n",
    "from glob import glob\n",
    "from tqdm.notebook import tqdm\n",
    "from sklearn.model_selection import train_test_split\n",
    "tqdm.pandas()"
   ],
   "outputs": [
    {
     "output_type": "stream",
     "name": "stderr",
     "text": [
      "/opt/conda/lib/python3.8/site-packages/tqdm/std.py:703: FutureWarning: The Panel class is removed from pandas. Accessing it from the top-level namespace will also be removed in the next version\n",
      "  from pandas import Panel\n"
     ]
    }
   ],
   "metadata": {}
  },
  {
   "cell_type": "code",
   "execution_count": 50,
   "source": [
    "def get_train_image_path(folder, path='/opt/ml/input/data/train/images/'):\n",
    "    ''' 각 이미지의 full_path를 얻는 함수\n",
    "    \n",
    "        folder(str) : 폴더 이름\n",
    "        path(str) : train_image 폴더들의 상위 폴더 path, Default 설정해놨음\n",
    "    \n",
    "    '''\n",
    "    \n",
    "    file_path_list = glob(path + folder + '/*')\n",
    "    return file_path_list\n",
    "\n",
    "\n",
    "def figure_out_mask_label(file_path):\n",
    "    ''' 마스크 착용 여부를 얻어내는 함수\n",
    "    \n",
    "        file_path(str) : file의 전체 경로 ex) \n",
    "            ex) ./input/data/train/images/000001_female_Asian ~~ /normal.jpg\n",
    "    \n",
    "    '''\n",
    "    \n",
    "    file_name = file_path.split('/')[-1]\n",
    "    if 'incorrect' in file_name: return 'incorrect'\n",
    "    elif 'mask' in file_name: return 'wear'\n",
    "    else: return 'not_wear'\n",
    "\n",
    "\n",
    "def get_label(label_dict, mask, gender, age):\n",
    "    ''' label을 얻을 수 있는 함수\n",
    "        \n",
    "        label_dict(dict) : label값들을 가진 dictionary\n",
    "        mask(str) : 마스크 착용 여부\n",
    "        gender(str) : 성별\n",
    "        age(int) : 나이\n",
    "    \n",
    "    '''\n",
    "    \n",
    "    if age < 30: age = 'young'\n",
    "    elif (age >= 30 and age < 58) : age = 'middle'\n",
    "    else: age = 'old'\n",
    "    \n",
    "    key = '_'.join([mask, gender, age])\n",
    "    return label_dict[key]\n",
    "\n",
    "    \n",
    "def get_folder_path(full_path_list):\n",
    "    ''' stratification함수에서 폴더명을 뽑기 위해 필요한 함수\n",
    "    \n",
    "        full_path_list(list): 이미지 경로가 담긴 리스트\n",
    "    \n",
    "    '''\n",
    "    \n",
    "    folder_path_list = []\n",
    "    for full_path in full_path_list:\n",
    "        folder_path = full_path.split('/')[-2] # 폴더명만 추출\n",
    "        folder_path_list.append(folder_path)\n",
    "    \n",
    "    return folder_path_list\n",
    "\n",
    "    \n",
    "def stratification(df, infrequent_classes, ratio = 0.2):\n",
    "    '''\n",
    "        df : label값을 구하고 파일 기준으로 분류된 df\n",
    "        infrequent_classes : 숫자가 적은 class 번호 순으로 정렬된 list\n",
    "        ratio : 얻고자 하는 validation ratio\n",
    "    '''\n",
    "    \n",
    "    total_valid_count = int(len(df) * ratio / 7) # valid용 folder의 개수\n",
    "    valid_folder_list = [] # 여기에 valid용 folder명을 그룹마다 담을겁니다.\n",
    "    count_summation = 0    # count_summation\n",
    "\n",
    "    for class_num in infrequent_classes:\n",
    "        # 만약 class_num이 마지막 infrequent_classes의 원소라면\n",
    "        # total_valid_count를 맞추기 위해 그동안 쌓은 count_summation의 차만큼 뽑습니다.\n",
    "        # why? 반올림으로 인해 완전히 나눠 떨어지지 않을 수도 있기 때문에\n",
    "        if class_num == infrequent_classes[-1]:\n",
    "            group_count = total_valid_count - count_summation\n",
    "        else:\n",
    "            group_count = round(label_count[class_num] * ratio)\n",
    "\n",
    "        random.seed(42) # 복원을 위해 seed 설정\n",
    "        group_df = df[df['label'] == class_num] # 현재 class_num을 가진 rows 추출\n",
    "        index = random.sample(list(group_df.index), group_count) # 현재 group에서 뽑아야 하는 개수만큼 sampling\n",
    "        group_full_path = df.iloc[index]['full_path'].values # index들의 full_path를 얻은 후\n",
    "        group_folder_path = get_folder_path(group_full_path) # folder명만 추출 (리스트)\n",
    "        valid_folder_list.append(group_folder_path) # valid_folder_list에 담고 \n",
    "        count_summation += group_count # group_count를 쌓아간다.\n",
    "        \n",
    "    return valid_folder_list"
   ],
   "outputs": [],
   "metadata": {}
  },
  {
   "cell_type": "code",
   "execution_count": 58,
   "source": [
    "train_df = pd.read_csv('/opt/ml/input/data/train/train.csv')\n",
    "submission_df = pd.read_csv('/opt/ml/input/data/eval/info.csv')"
   ],
   "outputs": [],
   "metadata": {}
  },
  {
   "cell_type": "code",
   "execution_count": 60,
   "source": [
    "# 각 폴더 내에 있는 파일 경로 읽어오기\n",
    "# path_list는 array 형식으로 해당 폴더의 파일 경로 7개가 들어있음\n",
    "train_df['path_list'] = train_df['path'].progress_apply(get_train_image_path)"
   ],
   "outputs": [
    {
     "output_type": "display_data",
     "data": {
      "text/plain": [
       "HBox(children=(HTML(value=''), FloatProgress(value=0.0, max=2700.0), HTML(value='')))"
      ],
      "application/vnd.jupyter.widget-view+json": {
       "version_major": 2,
       "version_minor": 0,
       "model_id": "61c979bf1273400989f6d851563c88af"
      }
     },
     "metadata": {}
    },
    {
     "output_type": "stream",
     "name": "stdout",
     "text": [
      "\n"
     ]
    }
   ],
   "metadata": {}
  },
  {
   "cell_type": "code",
   "execution_count": 61,
   "source": [
    "train_df.head()"
   ],
   "outputs": [
    {
     "output_type": "execute_result",
     "data": {
      "text/plain": [
       "       id  gender   race  age                    path  \\\n",
       "0  000001  female  Asian   45  000001_female_Asian_45   \n",
       "1  000002  female  Asian   52  000002_female_Asian_52   \n",
       "2  000004    male  Asian   54    000004_male_Asian_54   \n",
       "3  000005  female  Asian   58  000005_female_Asian_58   \n",
       "4  000006  female  Asian   59  000006_female_Asian_59   \n",
       "\n",
       "                                           path_list  \n",
       "0  [/opt/ml/input/data/train/images/000001_female...  \n",
       "1  [/opt/ml/input/data/train/images/000002_female...  \n",
       "2  [/opt/ml/input/data/train/images/000004_male_A...  \n",
       "3  [/opt/ml/input/data/train/images/000005_female...  \n",
       "4  [/opt/ml/input/data/train/images/000006_female...  "
      ],
      "text/html": [
       "<div>\n",
       "<style scoped>\n",
       "    .dataframe tbody tr th:only-of-type {\n",
       "        vertical-align: middle;\n",
       "    }\n",
       "\n",
       "    .dataframe tbody tr th {\n",
       "        vertical-align: top;\n",
       "    }\n",
       "\n",
       "    .dataframe thead th {\n",
       "        text-align: right;\n",
       "    }\n",
       "</style>\n",
       "<table border=\"1\" class=\"dataframe\">\n",
       "  <thead>\n",
       "    <tr style=\"text-align: right;\">\n",
       "      <th></th>\n",
       "      <th>id</th>\n",
       "      <th>gender</th>\n",
       "      <th>race</th>\n",
       "      <th>age</th>\n",
       "      <th>path</th>\n",
       "      <th>path_list</th>\n",
       "    </tr>\n",
       "  </thead>\n",
       "  <tbody>\n",
       "    <tr>\n",
       "      <th>0</th>\n",
       "      <td>000001</td>\n",
       "      <td>female</td>\n",
       "      <td>Asian</td>\n",
       "      <td>45</td>\n",
       "      <td>000001_female_Asian_45</td>\n",
       "      <td>[/opt/ml/input/data/train/images/000001_female...</td>\n",
       "    </tr>\n",
       "    <tr>\n",
       "      <th>1</th>\n",
       "      <td>000002</td>\n",
       "      <td>female</td>\n",
       "      <td>Asian</td>\n",
       "      <td>52</td>\n",
       "      <td>000002_female_Asian_52</td>\n",
       "      <td>[/opt/ml/input/data/train/images/000002_female...</td>\n",
       "    </tr>\n",
       "    <tr>\n",
       "      <th>2</th>\n",
       "      <td>000004</td>\n",
       "      <td>male</td>\n",
       "      <td>Asian</td>\n",
       "      <td>54</td>\n",
       "      <td>000004_male_Asian_54</td>\n",
       "      <td>[/opt/ml/input/data/train/images/000004_male_A...</td>\n",
       "    </tr>\n",
       "    <tr>\n",
       "      <th>3</th>\n",
       "      <td>000005</td>\n",
       "      <td>female</td>\n",
       "      <td>Asian</td>\n",
       "      <td>58</td>\n",
       "      <td>000005_female_Asian_58</td>\n",
       "      <td>[/opt/ml/input/data/train/images/000005_female...</td>\n",
       "    </tr>\n",
       "    <tr>\n",
       "      <th>4</th>\n",
       "      <td>000006</td>\n",
       "      <td>female</td>\n",
       "      <td>Asian</td>\n",
       "      <td>59</td>\n",
       "      <td>000006_female_Asian_59</td>\n",
       "      <td>[/opt/ml/input/data/train/images/000006_female...</td>\n",
       "    </tr>\n",
       "  </tbody>\n",
       "</table>\n",
       "</div>"
      ]
     },
     "metadata": {},
     "execution_count": 61
    }
   ],
   "metadata": {}
  },
  {
   "cell_type": "code",
   "execution_count": 62,
   "source": [
    "# 리스트화된 컬럼을 gender, age, path에 맞게 펼쳐준 뒤, merge하여 새로운 df 생성\n",
    "gender_df = pd.DataFrame({'gender':np.repeat(train_df['gender'].values, train_df['path_list'].str.len()),\n",
    "                          'full_path':np.concatenate(train_df['path_list'].values)\n",
    "                         })\n",
    "\n",
    "age_df = pd.DataFrame({'age':np.repeat(train_df['age'].values, train_df['path_list'].str.len()),\n",
    "                       'full_path':np.concatenate(train_df['path_list'].values)\n",
    "                      })\n",
    "\n",
    "# 기존 DF의 path column의 이름을 folder로 변환\n",
    "path_df = pd.DataFrame({'folder':np.repeat(train_df['path'].values, train_df['path_list'].str.len()),\n",
    "                        'full_path':np.concatenate(train_df['path_list'].values)\n",
    "                       })\n",
    "\n",
    "# merge\n",
    "new_df = pd.merge(gender_df, age_df, how='inner', on='full_path')\n",
    "new_df = pd.merge(new_df, path_df, how='inner', on='full_path')\n"
   ],
   "outputs": [],
   "metadata": {}
  },
  {
   "cell_type": "code",
   "execution_count": 63,
   "source": [
    "new_df.head()"
   ],
   "outputs": [
    {
     "output_type": "execute_result",
     "data": {
      "text/plain": [
       "   gender                                          full_path  age  \\\n",
       "0  female  /opt/ml/input/data/train/images/000001_female_...   45   \n",
       "1  female  /opt/ml/input/data/train/images/000001_female_...   45   \n",
       "2  female  /opt/ml/input/data/train/images/000001_female_...   45   \n",
       "3  female  /opt/ml/input/data/train/images/000001_female_...   45   \n",
       "4  female  /opt/ml/input/data/train/images/000001_female_...   45   \n",
       "\n",
       "                   folder  \n",
       "0  000001_female_Asian_45  \n",
       "1  000001_female_Asian_45  \n",
       "2  000001_female_Asian_45  \n",
       "3  000001_female_Asian_45  \n",
       "4  000001_female_Asian_45  "
      ],
      "text/html": [
       "<div>\n",
       "<style scoped>\n",
       "    .dataframe tbody tr th:only-of-type {\n",
       "        vertical-align: middle;\n",
       "    }\n",
       "\n",
       "    .dataframe tbody tr th {\n",
       "        vertical-align: top;\n",
       "    }\n",
       "\n",
       "    .dataframe thead th {\n",
       "        text-align: right;\n",
       "    }\n",
       "</style>\n",
       "<table border=\"1\" class=\"dataframe\">\n",
       "  <thead>\n",
       "    <tr style=\"text-align: right;\">\n",
       "      <th></th>\n",
       "      <th>gender</th>\n",
       "      <th>full_path</th>\n",
       "      <th>age</th>\n",
       "      <th>folder</th>\n",
       "    </tr>\n",
       "  </thead>\n",
       "  <tbody>\n",
       "    <tr>\n",
       "      <th>0</th>\n",
       "      <td>female</td>\n",
       "      <td>/opt/ml/input/data/train/images/000001_female_...</td>\n",
       "      <td>45</td>\n",
       "      <td>000001_female_Asian_45</td>\n",
       "    </tr>\n",
       "    <tr>\n",
       "      <th>1</th>\n",
       "      <td>female</td>\n",
       "      <td>/opt/ml/input/data/train/images/000001_female_...</td>\n",
       "      <td>45</td>\n",
       "      <td>000001_female_Asian_45</td>\n",
       "    </tr>\n",
       "    <tr>\n",
       "      <th>2</th>\n",
       "      <td>female</td>\n",
       "      <td>/opt/ml/input/data/train/images/000001_female_...</td>\n",
       "      <td>45</td>\n",
       "      <td>000001_female_Asian_45</td>\n",
       "    </tr>\n",
       "    <tr>\n",
       "      <th>3</th>\n",
       "      <td>female</td>\n",
       "      <td>/opt/ml/input/data/train/images/000001_female_...</td>\n",
       "      <td>45</td>\n",
       "      <td>000001_female_Asian_45</td>\n",
       "    </tr>\n",
       "    <tr>\n",
       "      <th>4</th>\n",
       "      <td>female</td>\n",
       "      <td>/opt/ml/input/data/train/images/000001_female_...</td>\n",
       "      <td>45</td>\n",
       "      <td>000001_female_Asian_45</td>\n",
       "    </tr>\n",
       "  </tbody>\n",
       "</table>\n",
       "</div>"
      ]
     },
     "metadata": {},
     "execution_count": 63
    }
   ],
   "metadata": {}
  },
  {
   "cell_type": "code",
   "execution_count": 64,
   "source": [
    "# label Dictaionary는 라벨링을 할 때 사용됩니다.\n",
    "label_dict = defaultdict(list)\n",
    "\n",
    "label = 0\n",
    "for mask in ('wear', 'incorrect', 'not_wear'):\n",
    "    for gender in ('male', 'female'):\n",
    "        for age in ('young', 'middle', 'old'):\n",
    "            key = '_'.join([mask, gender, age])\n",
    "            label_dict[key] = label\n",
    "            label += 1"
   ],
   "outputs": [],
   "metadata": {}
  },
  {
   "cell_type": "code",
   "execution_count": 66,
   "source": [
    "# 각 row마다 mask 여부 확인 후 mask column 생성\n",
    "# incorrect, wear, not_wear\n",
    "new_df['mask'] = new_df['full_path'].progress_apply(figure_out_mask_label)\n",
    "\n",
    "# label 생성\n",
    "# mask, gender, age 조합을 가지고 각 row마다 label 생성\n",
    "new_df['label'] = new_df[['mask', 'gender', 'age']].progress_apply(lambda x: get_label(label_dict, x[0], x[1], x[2]), axis=1)"
   ],
   "outputs": [
    {
     "output_type": "display_data",
     "data": {
      "text/plain": [
       "HBox(children=(HTML(value=''), FloatProgress(value=0.0, max=18900.0), HTML(value='')))"
      ],
      "application/vnd.jupyter.widget-view+json": {
       "version_major": 2,
       "version_minor": 0,
       "model_id": "976596ea46d6459b91af49e48bc3ba84"
      }
     },
     "metadata": {}
    },
    {
     "output_type": "stream",
     "name": "stdout",
     "text": [
      "\n"
     ]
    },
    {
     "output_type": "display_data",
     "data": {
      "text/plain": [
       "HBox(children=(HTML(value=''), FloatProgress(value=0.0, max=18900.0), HTML(value='')))"
      ],
      "application/vnd.jupyter.widget-view+json": {
       "version_major": 2,
       "version_minor": 0,
       "model_id": "fa0c1f579766482bb109edd8da6740f6"
      }
     },
     "metadata": {}
    },
    {
     "output_type": "stream",
     "name": "stdout",
     "text": [
      "\n"
     ]
    }
   ],
   "metadata": {}
  },
  {
   "cell_type": "code",
   "execution_count": 67,
   "source": [
    "new_df.head()"
   ],
   "outputs": [
    {
     "output_type": "execute_result",
     "data": {
      "text/plain": [
       "   gender                                          full_path  age  \\\n",
       "0  female  /opt/ml/input/data/train/images/000001_female_...   45   \n",
       "1  female  /opt/ml/input/data/train/images/000001_female_...   45   \n",
       "2  female  /opt/ml/input/data/train/images/000001_female_...   45   \n",
       "3  female  /opt/ml/input/data/train/images/000001_female_...   45   \n",
       "4  female  /opt/ml/input/data/train/images/000001_female_...   45   \n",
       "\n",
       "                   folder       mask  label  \n",
       "0  000001_female_Asian_45       wear      4  \n",
       "1  000001_female_Asian_45       wear      4  \n",
       "2  000001_female_Asian_45       wear      4  \n",
       "3  000001_female_Asian_45   not_wear     16  \n",
       "4  000001_female_Asian_45  incorrect     10  "
      ],
      "text/html": [
       "<div>\n",
       "<style scoped>\n",
       "    .dataframe tbody tr th:only-of-type {\n",
       "        vertical-align: middle;\n",
       "    }\n",
       "\n",
       "    .dataframe tbody tr th {\n",
       "        vertical-align: top;\n",
       "    }\n",
       "\n",
       "    .dataframe thead th {\n",
       "        text-align: right;\n",
       "    }\n",
       "</style>\n",
       "<table border=\"1\" class=\"dataframe\">\n",
       "  <thead>\n",
       "    <tr style=\"text-align: right;\">\n",
       "      <th></th>\n",
       "      <th>gender</th>\n",
       "      <th>full_path</th>\n",
       "      <th>age</th>\n",
       "      <th>folder</th>\n",
       "      <th>mask</th>\n",
       "      <th>label</th>\n",
       "    </tr>\n",
       "  </thead>\n",
       "  <tbody>\n",
       "    <tr>\n",
       "      <th>0</th>\n",
       "      <td>female</td>\n",
       "      <td>/opt/ml/input/data/train/images/000001_female_...</td>\n",
       "      <td>45</td>\n",
       "      <td>000001_female_Asian_45</td>\n",
       "      <td>wear</td>\n",
       "      <td>4</td>\n",
       "    </tr>\n",
       "    <tr>\n",
       "      <th>1</th>\n",
       "      <td>female</td>\n",
       "      <td>/opt/ml/input/data/train/images/000001_female_...</td>\n",
       "      <td>45</td>\n",
       "      <td>000001_female_Asian_45</td>\n",
       "      <td>wear</td>\n",
       "      <td>4</td>\n",
       "    </tr>\n",
       "    <tr>\n",
       "      <th>2</th>\n",
       "      <td>female</td>\n",
       "      <td>/opt/ml/input/data/train/images/000001_female_...</td>\n",
       "      <td>45</td>\n",
       "      <td>000001_female_Asian_45</td>\n",
       "      <td>wear</td>\n",
       "      <td>4</td>\n",
       "    </tr>\n",
       "    <tr>\n",
       "      <th>3</th>\n",
       "      <td>female</td>\n",
       "      <td>/opt/ml/input/data/train/images/000001_female_...</td>\n",
       "      <td>45</td>\n",
       "      <td>000001_female_Asian_45</td>\n",
       "      <td>not_wear</td>\n",
       "      <td>16</td>\n",
       "    </tr>\n",
       "    <tr>\n",
       "      <th>4</th>\n",
       "      <td>female</td>\n",
       "      <td>/opt/ml/input/data/train/images/000001_female_...</td>\n",
       "      <td>45</td>\n",
       "      <td>000001_female_Asian_45</td>\n",
       "      <td>incorrect</td>\n",
       "      <td>10</td>\n",
       "    </tr>\n",
       "  </tbody>\n",
       "</table>\n",
       "</div>"
      ]
     },
     "metadata": {},
     "execution_count": 67
    }
   ],
   "metadata": {}
  },
  {
   "cell_type": "code",
   "execution_count": 68,
   "source": [
    "# label을 count를 중복제거하고 오름차순 정렬\n",
    "# 중복제거되는 label은 마스크 오착용 or 마스크 미착용 label일 것임\n",
    "label_count = new_df['label'].value_counts().sort_values().drop_duplicates()\n",
    "\n",
    "# label_count의 최초 6개는 incorrect or not_wear label이며, 가장 개수가 적은 label순으로 구성\n",
    "# index로 함수에서 읽기 때문에 인덱스 추출\n",
    "infrequent_classes = label_count[:6].index\n",
    "label_count[:6]"
   ],
   "outputs": [
    {
     "output_type": "execute_result",
     "data": {
      "text/plain": [
       "14    179\n",
       "17    257\n",
       "13    313\n",
       "6     554\n",
       "16    670\n",
       "15    727\n",
       "Name: label, dtype: int64"
      ]
     },
     "metadata": {},
     "execution_count": 68
    }
   ],
   "metadata": {}
  },
  {
   "cell_type": "code",
   "execution_count": 69,
   "source": [
    "# Validation ratio -> default는 0.2입니다.\n",
    "ratio = 0.2\n",
    "\n",
    "# 설정한 ratio대로 train, valid split\n",
    "valid_folder_list = stratification(new_df, infrequent_classes, ratio)\n",
    "\n",
    "# 함수로 얻어낸 valid_folder_path는 2D-array형식이며\n",
    "# infrequent_classes개수에 맞게 6개 그룹으로 되어있음\n",
    "# ex) [[classes1_folders], [classes2_folders], ... [classes6_folders]]\n",
    "\n",
    "# 그러므로 작업 편의를 위해 1D-array로 변환\n",
    "valid_folder_list = list(chain(*valid_folder_list))"
   ],
   "outputs": [],
   "metadata": {}
  },
  {
   "cell_type": "code",
   "execution_count": 70,
   "source": [
    "# valid_df 생성\n",
    "# new_df의 folder명이 valid_folder_path에 해당하면 추출\n",
    "valid_df = new_df[new_df['folder'].isin(valid_folder_list)]\n",
    "\n",
    "# trainset 분리 위해 valid_df의 index 추출\n",
    "valid_index = valid_df.index\n",
    "\n",
    "# train_df 생성\n",
    "# new_df의 인덱스 중 valid_df의 인덱스가 아니면 train_df\n",
    "train_index = [idx for idx in new_df.index if idx not in valid_index]\n",
    "train_df = new_df.iloc[train_index]"
   ],
   "outputs": [],
   "metadata": {}
  },
  {
   "cell_type": "code",
   "execution_count": 71,
   "source": [
    "# train_df, valid_df 저장\n",
    "print(len(train_df), len(valid_df))\n",
    "\n",
    "# path는 본인이 원하는 위치에 지정해주세요\n",
    "train_df.to_csv('./train_df.csv', index=False)\n",
    "valid_df.to_csv('./valid_df.csv', index=False)"
   ],
   "outputs": [
    {
     "output_type": "stream",
     "name": "stdout",
     "text": [
      "15120 3780\n"
     ]
    }
   ],
   "metadata": {}
  },
  {
   "cell_type": "code",
   "execution_count": 76,
   "source": [
    "df_train = pd.read_csv('./train_df.csv', index_col=0)\n",
    "df_val = pd.read_csv('./valid_df.csv', index_col=0)"
   ],
   "outputs": [],
   "metadata": {}
  },
  {
   "cell_type": "code",
   "execution_count": 77,
   "source": [
    "print(df_train['label'].value_counts())\n",
    "print(df_val['label'].value_counts())"
   ],
   "outputs": [
    {
     "output_type": "stream",
     "name": "stdout",
     "text": [
      "3     2910\n",
      "4     2680\n",
      "0     2215\n",
      "1     1250\n",
      "5     1030\n",
      "2      715\n",
      "9      582\n",
      "15     582\n",
      "10     536\n",
      "16     536\n",
      "6      443\n",
      "12     443\n",
      "13     250\n",
      "7      250\n",
      "11     206\n",
      "17     206\n",
      "14     143\n",
      "8      143\n",
      "Name: label, dtype: int64\n",
      "3     725\n",
      "4     670\n",
      "0     555\n",
      "1     315\n",
      "5     255\n",
      "2     180\n",
      "15    145\n",
      "9     145\n",
      "10    134\n",
      "16    134\n",
      "12    111\n",
      "6     111\n",
      "7      63\n",
      "13     63\n",
      "11     51\n",
      "17     51\n",
      "14     36\n",
      "8      36\n",
      "Name: label, dtype: int64\n"
     ]
    }
   ],
   "metadata": {}
  }
 ],
 "metadata": {
  "orig_nbformat": 4,
  "language_info": {
   "name": "python",
   "version": "3.8.5",
   "mimetype": "text/x-python",
   "codemirror_mode": {
    "name": "ipython",
    "version": 3
   },
   "pygments_lexer": "ipython3",
   "nbconvert_exporter": "python",
   "file_extension": ".py"
  },
  "kernelspec": {
   "name": "python3",
   "display_name": "Python 3.8.5 64-bit ('base': conda)"
  },
  "interpreter": {
   "hash": "98b0a9b7b4eaaa670588a142fd0a9b87eaafe866f1db4228be72b4211d12040f"
  }
 },
 "nbformat": 4,
 "nbformat_minor": 2
}