{
 "cells": [
  {
   "cell_type": "code",
   "execution_count": 6,
   "source": [
    "# !pip install seaborn"
   ],
   "outputs": [],
   "metadata": {}
  },
  {
   "cell_type": "code",
   "execution_count": 7,
   "source": [
    "import os\n",
    "import pandas as pd\n",
    "from PIL import Image\n",
    "\n",
    "import torch\n",
    "from torch.utils.data import Dataset, DataLoader\n",
    "\n",
    "from torchvision import transforms\n",
    "from torchvision.transforms import Resize, ToTensor, Normalize\n"
   ],
   "outputs": [],
   "metadata": {}
  },
  {
   "cell_type": "code",
   "execution_count": 8,
   "source": [
    "path = '/opt/ml/input/data/train/'"
   ],
   "outputs": [],
   "metadata": {}
  },
  {
   "cell_type": "code",
   "execution_count": 9,
   "source": [
    "df = pd.read_csv(path+'train.csv')\n",
    "df.head()"
   ],
   "outputs": [
    {
     "output_type": "execute_result",
     "data": {
      "text/plain": [
       "       id  gender   race  age                    path\n",
       "0  000001  female  Asian   45  000001_female_Asian_45\n",
       "1  000002  female  Asian   52  000002_female_Asian_52\n",
       "2  000004    male  Asian   54    000004_male_Asian_54\n",
       "3  000005  female  Asian   58  000005_female_Asian_58\n",
       "4  000006  female  Asian   59  000006_female_Asian_59"
      ],
      "text/html": [
       "<div>\n",
       "<style scoped>\n",
       "    .dataframe tbody tr th:only-of-type {\n",
       "        vertical-align: middle;\n",
       "    }\n",
       "\n",
       "    .dataframe tbody tr th {\n",
       "        vertical-align: top;\n",
       "    }\n",
       "\n",
       "    .dataframe thead th {\n",
       "        text-align: right;\n",
       "    }\n",
       "</style>\n",
       "<table border=\"1\" class=\"dataframe\">\n",
       "  <thead>\n",
       "    <tr style=\"text-align: right;\">\n",
       "      <th></th>\n",
       "      <th>id</th>\n",
       "      <th>gender</th>\n",
       "      <th>race</th>\n",
       "      <th>age</th>\n",
       "      <th>path</th>\n",
       "    </tr>\n",
       "  </thead>\n",
       "  <tbody>\n",
       "    <tr>\n",
       "      <th>0</th>\n",
       "      <td>000001</td>\n",
       "      <td>female</td>\n",
       "      <td>Asian</td>\n",
       "      <td>45</td>\n",
       "      <td>000001_female_Asian_45</td>\n",
       "    </tr>\n",
       "    <tr>\n",
       "      <th>1</th>\n",
       "      <td>000002</td>\n",
       "      <td>female</td>\n",
       "      <td>Asian</td>\n",
       "      <td>52</td>\n",
       "      <td>000002_female_Asian_52</td>\n",
       "    </tr>\n",
       "    <tr>\n",
       "      <th>2</th>\n",
       "      <td>000004</td>\n",
       "      <td>male</td>\n",
       "      <td>Asian</td>\n",
       "      <td>54</td>\n",
       "      <td>000004_male_Asian_54</td>\n",
       "    </tr>\n",
       "    <tr>\n",
       "      <th>3</th>\n",
       "      <td>000005</td>\n",
       "      <td>female</td>\n",
       "      <td>Asian</td>\n",
       "      <td>58</td>\n",
       "      <td>000005_female_Asian_58</td>\n",
       "    </tr>\n",
       "    <tr>\n",
       "      <th>4</th>\n",
       "      <td>000006</td>\n",
       "      <td>female</td>\n",
       "      <td>Asian</td>\n",
       "      <td>59</td>\n",
       "      <td>000006_female_Asian_59</td>\n",
       "    </tr>\n",
       "  </tbody>\n",
       "</table>\n",
       "</div>"
      ]
     },
     "metadata": {},
     "execution_count": 9
    }
   ],
   "metadata": {}
  },
  {
   "cell_type": "code",
   "execution_count": 10,
   "source": [
    "train_dir = '/opt/ml/input/data/train'\n",
    "image_dir = os.path.join(train_dir, 'images')"
   ],
   "outputs": [],
   "metadata": {}
  },
  {
   "cell_type": "markdown",
   "source": [
    "- gender\n",
    "    - male : 0\n",
    "    - female : 1\n",
    "- mask\n",
    "    - wear : 0\n",
    "    - incorrect : 1\n",
    "    - not wear : 2\n",
    "- age\n",
    "    - age < 30 : 0\n",
    "    - age < 60 : 1\n",
    "    - 60 <= age : 2"
   ],
   "metadata": {}
  },
  {
   "cell_type": "code",
   "execution_count": null,
   "source": [
    "from PIL import Image\n",
    "import matplotlib.pyplot as plt"
   ],
   "outputs": [],
   "metadata": {}
  },
  {
   "cell_type": "code",
   "execution_count": 11,
   "source": [
    "submission = pd.read_csv(os.path.join(train_dir,'train.csv'))\n",
    "image_dir_paths = [os.path.join(image_dir, img_id) for img_id in submission.path]\n",
    "\n",
    "Data = pd.DataFrame()\n",
    "index = 0\n",
    "for i in range(len(image_dir_paths)):\n",
    "    dir_ = image_dir_paths[i]\n",
    "    file_dir = os.listdir(dir_)\n",
    "    id, gender, age = submission.loc[i].id, submission.loc[i].gender, submission.loc[i].age\n",
    "    for filename in file_dir:\n",
    "        if '._' in filename:\n",
    "            continue\n",
    "        if 'incorrect' in filename:\n",
    "            if gender=='female':\n",
    "                if age<30:\n",
    "                    Data = Data.append({'id':id, 'mask':1, 'gender':1, 'age':0, 'path':os.path.join(dir_,filename), 'class':9}, ignore_index=True)\n",
    "                elif age >= 30 and age < 60:\n",
    "                    Data = Data.append({'id':id, 'mask':1, 'gender':1, 'age':1, 'path':os.path.join(dir_,filename), 'class':10}, ignore_index=True)\n",
    "                else:\n",
    "                    Data = Data.append({'id':id, 'mask':1, 'gender':1, 'age':2, 'path':os.path.join(dir_,filename), 'class':11}, ignore_index=True)\n",
    "            else:\n",
    "                if age<30:\n",
    "                    Data = Data.append({'id':id, 'mask':1, 'gender':0, 'age':0, 'path':os.path.join(dir_,filename), 'class':6}, ignore_index=True)\n",
    "                elif age >= 30 and age < 60:\n",
    "                    Data = Data.append({'id':id, 'mask':1, 'gender':0, 'age':1, 'path':os.path.join(dir_,filename), 'class':7}, ignore_index=True)\n",
    "                else:\n",
    "                    Data = Data.append({'id':id, 'mask':1, 'gender':0, 'age':2, 'path':os.path.join(dir_,filename), 'class':8}, ignore_index=True)\n",
    "        elif 'mask' in filename:\n",
    "            if gender=='female':\n",
    "                if age<30:\n",
    "                    Data = Data.append({'id':id, 'mask':0, 'gender':1, 'age':0, 'path':os.path.join(dir_,filename), 'class':3}, ignore_index=True)\n",
    "                elif age >= 30 and age < 60:\n",
    "                    Data = Data.append({'id':id, 'mask':0, 'gender':1, 'age':1, 'path':os.path.join(dir_,filename), 'class':4}, ignore_index=True)\n",
    "                else:\n",
    "                    Data = Data.append({'id':id, 'mask':0, 'gender':1, 'age':2, 'path':os.path.join(dir_,filename), 'class':5}, ignore_index=True)\n",
    "            else:\n",
    "                if age<30:\n",
    "                    Data = Data.append({'id':id, 'mask':0, 'gender':0, 'age':0, 'path':os.path.join(dir_,filename), 'class':0}, ignore_index=True)\n",
    "                elif age >= 30 and age < 60:\n",
    "                    Data = Data.append({'id':id, 'mask':0, 'gender':0, 'age':1, 'path':os.path.join(dir_,filename), 'class':1}, ignore_index=True)\n",
    "                else:\n",
    "                    Data = Data.append({'id':id, 'mask':0, 'gender':0, 'age':2, 'path':os.path.join(dir_,filename), 'class':2}, ignore_index=True)\n",
    "        elif 'normal' in filename:\n",
    "            if gender=='female':\n",
    "                if age<30:\n",
    "                    Data = Data.append({'id':id, 'mask':2, 'gender':1, 'age':0, 'path':os.path.join(dir_,filename), 'class':15}, ignore_index=True)\n",
    "                elif age >= 30 and age < 60:\n",
    "                    Data = Data.append({'id':id, 'mask':2, 'gender':1, 'age':1, 'path':os.path.join(dir_,filename), 'class':16}, ignore_index=True)\n",
    "                else:\n",
    "                    Data = Data.append({'id':id, 'mask':2, 'gender':1, 'age':2, 'path':os.path.join(dir_,filename), 'class':17}, ignore_index=True)\n",
    "            else:\n",
    "                if age<30:\n",
    "                    Data = Data.append({'id':id, 'mask':2, 'gender':0, 'age':0, 'path':os.path.join(dir_,filename), 'class':12}, ignore_index=True)\n",
    "                elif age >= 30 and age < 60:\n",
    "                    Data = Data.append({'id':id, 'mask':2, 'gender':0, 'age':1, 'path':os.path.join(dir_,filename), 'class':13}, ignore_index=True)\n",
    "                else:\n",
    "                    Data = Data.append({'id':id, 'mask':2, 'gender':0, 'age':2, 'path':os.path.join(dir_,filename), 'class':14}, ignore_index=True)\n",
    "        "
   ],
   "outputs": [],
   "metadata": {}
  },
  {
   "cell_type": "code",
   "execution_count": 12,
   "source": [
    "Data.to_csv('/opt/ml/input/data/train/data.csv',sep=',',)"
   ],
   "outputs": [],
   "metadata": {}
  },
  {
   "cell_type": "code",
   "execution_count": 13,
   "source": [
    "Data = pd.read_csv('/opt/ml/input/data/train/data.csv', index_col=0)\n",
    "Data.head()\n",
    "Data.columns.to_list()"
   ],
   "outputs": [
    {
     "output_type": "execute_result",
     "data": {
      "text/plain": [
       "['age', 'class', 'gender', 'id', 'mask', 'path']"
      ]
     },
     "metadata": {},
     "execution_count": 13
    }
   ],
   "metadata": {}
  },
  {
   "cell_type": "code",
   "execution_count": null,
   "source": [],
   "outputs": [],
   "metadata": {}
  }
 ],
 "metadata": {
  "kernelspec": {
   "name": "python3",
   "display_name": "Python 3.8.5 64-bit ('base': conda)"
  },
  "language_info": {
   "codemirror_mode": {
    "name": "ipython",
    "version": 3
   },
   "file_extension": ".py",
   "mimetype": "text/x-python",
   "name": "python",
   "nbconvert_exporter": "python",
   "pygments_lexer": "ipython3",
   "version": "3.8.5"
  },
  "interpreter": {
   "hash": "98b0a9b7b4eaaa670588a142fd0a9b87eaafe866f1db4228be72b4211d12040f"
  }
 },
 "nbformat": 4,
 "nbformat_minor": 5
}