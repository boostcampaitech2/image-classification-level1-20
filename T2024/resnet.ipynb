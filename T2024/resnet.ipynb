{
 "cells": [
  {
   "cell_type": "code",
   "execution_count": 63,
   "source": [
    "import numpy as np\n",
    "import pandas as pd\n",
    "from PIL import Image"
   ],
   "outputs": [],
   "metadata": {}
  },
  {
   "cell_type": "code",
   "execution_count": 64,
   "source": [
    "import torch\n",
    "from torch.utils.data import Dataset, DataLoader\n",
    "\n",
    "from torchvision import transforms\n",
    "from torchvision.transforms import Resize, ToTensor, Normalize\n"
   ],
   "outputs": [],
   "metadata": {}
  },
  {
   "cell_type": "code",
   "execution_count": 65,
   "source": [
    "from tqdm import tqdm"
   ],
   "outputs": [],
   "metadata": {}
  },
  {
   "cell_type": "code",
   "execution_count": 66,
   "source": [
    "TRAIN_PATH = './input/data/train/data.csv'"
   ],
   "outputs": [],
   "metadata": {}
  },
  {
   "cell_type": "code",
   "execution_count": 67,
   "source": [
    "class Custom_Dataset(Dataset):\n",
    "    def __init__(self, path, target, transforms, train=True):\n",
    "        self.train = train\n",
    "        self.path = path\n",
    "        self.transform = transforms\n",
    "        \n",
    "        self.data = pd.read_csv(path, index_col=0)\n",
    "        self.classes = np.sort(self.data[target].unique())\n",
    "        \n",
    "        self.y = self.data[target]\n",
    "        self.X = []\n",
    "        for path in self.data['path']:\n",
    "            im = Image.open(path)\n",
    "            self.X.append(im)\n",
    "\n",
    "    def __len__(self):\n",
    "        return len(self.y)\n",
    "\n",
    "    def __getitem__(self, idx):\n",
    "        X, y = self.X[idx], self.y[idx]\n",
    "        if self.transform:\n",
    "          X = self.transform(X)\n",
    "        return X, torch.tensor(y, dtype=torch.long)"
   ],
   "outputs": [],
   "metadata": {}
  },
  {
   "cell_type": "code",
   "execution_count": 68,
   "source": [
    "transform = transforms.Compose([\n",
    "    transforms.CenterCrop(250),\n",
    "    transforms.ToTensor(),\n",
    "    transforms.Normalize((0.5,0.5,0.5),(0.5,0.5,0.5))\n",
    "])"
   ],
   "outputs": [],
   "metadata": {}
  },
  {
   "cell_type": "code",
   "execution_count": 69,
   "source": [
    "dataset = Custom_Dataset(path=TRAIN_PATH, target='class', transforms=transform, train=True)"
   ],
   "outputs": [],
   "metadata": {}
  },
  {
   "cell_type": "code",
   "execution_count": 62,
   "source": [
    "dataloader = DataLoader(dataset, batch_size=64, shuffle=True, num_workers=4)"
   ],
   "outputs": [],
   "metadata": {}
  },
  {
   "cell_type": "code",
   "execution_count": 70,
   "source": [
    "from torchvision import models"
   ],
   "outputs": [],
   "metadata": {}
  },
  {
   "cell_type": "code",
   "execution_count": 71,
   "source": [
    "resnet50 = models.resnet50(pretrained=True)"
   ],
   "outputs": [],
   "metadata": {}
  },
  {
   "cell_type": "code",
   "execution_count": 72,
   "source": [
    "device = torch.device('cuda:0' if torch.cuda.is_available() else 'cpu')\n",
    "print(f'{device} is using!')"
   ],
   "outputs": [
    {
     "output_type": "stream",
     "name": "stdout",
     "text": [
      "cuda:0 is using!\n"
     ]
    }
   ],
   "metadata": {}
  },
  {
   "cell_type": "code",
   "execution_count": 73,
   "source": [
    "resnet50.to(device)\n",
    "\n",
    "lr_rate = 1e-3\n",
    "epochs = 10\n",
    "\n",
    "loss_fn = torch.nn.CrossEntropyLoss()\n",
    "optimizer = torch.optim.Adam(resnet50.parameters(), lr=lr_rate)"
   ],
   "outputs": [],
   "metadata": {}
  },
  {
   "cell_type": "code",
   "execution_count": 75,
   "source": [
    "from PIL import ImageFile\n",
    "ImageFile.LOAD_TRUNCATED_IMAGES = True\n",
    "\n",
    "for epoch in range(epochs):\n",
    "    running_loss = 0\n",
    "    running_acc = 0\n",
    "    for index, (image, label) in enumerate(tqdm(dataloader)):\n",
    "        image = image.to(device)\n",
    "        label = label.to(device)\n",
    "\n",
    "        optimizer.zero_grad()\n",
    "        logits = resnet50(image)\n",
    "        _, preds = torch.max(logits, 1)\n",
    "        loss = loss_fn(logits, label)\n",
    "        loss.backward()\n",
    "        optimizer.step()\n",
    "    \n",
    "        running_loss += loss.item() * image.size(0)\n",
    "        running_acc += torch.sum(preds == label.data)\n",
    "    \n",
    "    epoch_loss = running_loss / len(dataloader.dataset)\n",
    "    epoch_acc = running_acc / len(dataloader.dataset)\n",
    "\n",
    "    print(f'epoch : {epoch}, loss : {epoch_loss:.3f}, 평균 Accuracy : {epoch_acc}')\n"
   ],
   "outputs": [
    {
     "output_type": "stream",
     "name": "stderr",
     "text": [
      "100%|██████████| 296/296 [01:25<00:00,  3.44it/s]\n",
      "  0%|          | 0/296 [00:00<?, ?it/s]"
     ]
    },
    {
     "output_type": "stream",
     "name": "stdout",
     "text": [
      "epoch : 0, loss : 1.781, 평균 Accuracy : 0.4634920656681061\n"
     ]
    },
    {
     "output_type": "stream",
     "name": "stderr",
     "text": [
      "<ipython-input-42-be1ecc8a78e6>:23: DeprecationWarning: an integer is required (got type numpy.float64).  Implicit conversion to integers using __int__ is deprecated, and may be removed in a future version of Python.\n",
      "  return X, torch.tensor(y, dtype=torch.long)\n",
      "<ipython-input-42-be1ecc8a78e6>:23: DeprecationWarning: an integer is required (got type numpy.float64).  Implicit conversion to integers using __int__ is deprecated, and may be removed in a future version of Python.\n",
      "  return X, torch.tensor(y, dtype=torch.long)\n",
      "<ipython-input-42-be1ecc8a78e6>:23: DeprecationWarning: an integer is required (got type numpy.float64).  Implicit conversion to integers using __int__ is deprecated, and may be removed in a future version of Python.\n",
      "  return X, torch.tensor(y, dtype=torch.long)\n",
      "<ipython-input-42-be1ecc8a78e6>:23: DeprecationWarning: an integer is required (got type numpy.float64).  Implicit conversion to integers using __int__ is deprecated, and may be removed in a future version of Python.\n",
      "  return X, torch.tensor(y, dtype=torch.long)\n",
      "100%|██████████| 296/296 [01:25<00:00,  3.48it/s]\n",
      "  0%|          | 0/296 [00:00<?, ?it/s]"
     ]
    },
    {
     "output_type": "stream",
     "name": "stdout",
     "text": [
      "epoch : 1, loss : 1.996, 평균 Accuracy : 0.38962963223457336\n"
     ]
    },
    {
     "output_type": "stream",
     "name": "stderr",
     "text": [
      "<ipython-input-42-be1ecc8a78e6>:23: DeprecationWarning: an integer is required (got type numpy.float64).  Implicit conversion to integers using __int__ is deprecated, and may be removed in a future version of Python.\n",
      "  return X, torch.tensor(y, dtype=torch.long)\n",
      "<ipython-input-42-be1ecc8a78e6>:23: DeprecationWarning: an integer is required (got type numpy.float64).  Implicit conversion to integers using __int__ is deprecated, and may be removed in a future version of Python.\n",
      "  return X, torch.tensor(y, dtype=torch.long)\n",
      "<ipython-input-42-be1ecc8a78e6>:23: DeprecationWarning: an integer is required (got type numpy.float64).  Implicit conversion to integers using __int__ is deprecated, and may be removed in a future version of Python.\n",
      "  return X, torch.tensor(y, dtype=torch.long)\n",
      "<ipython-input-42-be1ecc8a78e6>:23: DeprecationWarning: an integer is required (got type numpy.float64).  Implicit conversion to integers using __int__ is deprecated, and may be removed in a future version of Python.\n",
      "  return X, torch.tensor(y, dtype=torch.long)\n",
      "100%|██████████| 296/296 [01:25<00:00,  3.46it/s]\n",
      "  0%|          | 0/296 [00:00<?, ?it/s]"
     ]
    },
    {
     "output_type": "stream",
     "name": "stdout",
     "text": [
      "epoch : 2, loss : 1.916, 평균 Accuracy : 0.4111640453338623\n"
     ]
    },
    {
     "output_type": "stream",
     "name": "stderr",
     "text": [
      "<ipython-input-42-be1ecc8a78e6>:23: DeprecationWarning: an integer is required (got type numpy.float64).  Implicit conversion to integers using __int__ is deprecated, and may be removed in a future version of Python.\n",
      "  return X, torch.tensor(y, dtype=torch.long)\n",
      "<ipython-input-42-be1ecc8a78e6>:23: DeprecationWarning: an integer is required (got type numpy.float64).  Implicit conversion to integers using __int__ is deprecated, and may be removed in a future version of Python.\n",
      "  return X, torch.tensor(y, dtype=torch.long)\n",
      "<ipython-input-42-be1ecc8a78e6>:23: DeprecationWarning: an integer is required (got type numpy.float64).  Implicit conversion to integers using __int__ is deprecated, and may be removed in a future version of Python.\n",
      "  return X, torch.tensor(y, dtype=torch.long)\n",
      "<ipython-input-42-be1ecc8a78e6>:23: DeprecationWarning: an integer is required (got type numpy.float64).  Implicit conversion to integers using __int__ is deprecated, and may be removed in a future version of Python.\n",
      "  return X, torch.tensor(y, dtype=torch.long)\n",
      "100%|██████████| 296/296 [01:25<00:00,  3.44it/s]\n",
      "  0%|          | 0/296 [00:00<?, ?it/s]"
     ]
    },
    {
     "output_type": "stream",
     "name": "stdout",
     "text": [
      "epoch : 3, loss : 1.883, 평균 Accuracy : 0.4181481599807739\n"
     ]
    },
    {
     "output_type": "stream",
     "name": "stderr",
     "text": [
      "<ipython-input-42-be1ecc8a78e6>:23: DeprecationWarning: an integer is required (got type numpy.float64).  Implicit conversion to integers using __int__ is deprecated, and may be removed in a future version of Python.\n",
      "  return X, torch.tensor(y, dtype=torch.long)\n",
      "<ipython-input-42-be1ecc8a78e6>:23: DeprecationWarning: an integer is required (got type numpy.float64).  Implicit conversion to integers using __int__ is deprecated, and may be removed in a future version of Python.\n",
      "  return X, torch.tensor(y, dtype=torch.long)\n",
      "<ipython-input-42-be1ecc8a78e6>:23: DeprecationWarning: an integer is required (got type numpy.float64).  Implicit conversion to integers using __int__ is deprecated, and may be removed in a future version of Python.\n",
      "  return X, torch.tensor(y, dtype=torch.long)\n",
      "<ipython-input-42-be1ecc8a78e6>:23: DeprecationWarning: an integer is required (got type numpy.float64).  Implicit conversion to integers using __int__ is deprecated, and may be removed in a future version of Python.\n",
      "  return X, torch.tensor(y, dtype=torch.long)\n",
      "100%|██████████| 296/296 [01:25<00:00,  3.45it/s]\n",
      "  0%|          | 0/296 [00:00<?, ?it/s]"
     ]
    },
    {
     "output_type": "stream",
     "name": "stdout",
     "text": [
      "epoch : 4, loss : 1.843, 평균 Accuracy : 0.4259788393974304\n"
     ]
    },
    {
     "output_type": "stream",
     "name": "stderr",
     "text": [
      "<ipython-input-42-be1ecc8a78e6>:23: DeprecationWarning: an integer is required (got type numpy.float64).  Implicit conversion to integers using __int__ is deprecated, and may be removed in a future version of Python.\n",
      "  return X, torch.tensor(y, dtype=torch.long)\n",
      "<ipython-input-42-be1ecc8a78e6>:23: DeprecationWarning: an integer is required (got type numpy.float64).  Implicit conversion to integers using __int__ is deprecated, and may be removed in a future version of Python.\n",
      "  return X, torch.tensor(y, dtype=torch.long)\n",
      "<ipython-input-42-be1ecc8a78e6>:23: DeprecationWarning: an integer is required (got type numpy.float64).  Implicit conversion to integers using __int__ is deprecated, and may be removed in a future version of Python.\n",
      "  return X, torch.tensor(y, dtype=torch.long)\n",
      "<ipython-input-42-be1ecc8a78e6>:23: DeprecationWarning: an integer is required (got type numpy.float64).  Implicit conversion to integers using __int__ is deprecated, and may be removed in a future version of Python.\n",
      "  return X, torch.tensor(y, dtype=torch.long)\n",
      "100%|██████████| 296/296 [01:25<00:00,  3.47it/s]\n",
      "  0%|          | 0/296 [00:00<?, ?it/s]"
     ]
    },
    {
     "output_type": "stream",
     "name": "stdout",
     "text": [
      "epoch : 5, loss : 1.814, 평균 Accuracy : 0.4329100549221039\n"
     ]
    },
    {
     "output_type": "stream",
     "name": "stderr",
     "text": [
      "<ipython-input-42-be1ecc8a78e6>:23: DeprecationWarning: an integer is required (got type numpy.float64).  Implicit conversion to integers using __int__ is deprecated, and may be removed in a future version of Python.\n",
      "  return X, torch.tensor(y, dtype=torch.long)\n",
      "<ipython-input-42-be1ecc8a78e6>:23: DeprecationWarning: an integer is required (got type numpy.float64).  Implicit conversion to integers using __int__ is deprecated, and may be removed in a future version of Python.\n",
      "  return X, torch.tensor(y, dtype=torch.long)\n",
      "<ipython-input-42-be1ecc8a78e6>:23: DeprecationWarning: an integer is required (got type numpy.float64).  Implicit conversion to integers using __int__ is deprecated, and may be removed in a future version of Python.\n",
      "  return X, torch.tensor(y, dtype=torch.long)\n",
      "<ipython-input-42-be1ecc8a78e6>:23: DeprecationWarning: an integer is required (got type numpy.float64).  Implicit conversion to integers using __int__ is deprecated, and may be removed in a future version of Python.\n",
      "  return X, torch.tensor(y, dtype=torch.long)\n",
      "100%|██████████| 296/296 [01:25<00:00,  3.46it/s]\n",
      "  0%|          | 0/296 [00:00<?, ?it/s]"
     ]
    },
    {
     "output_type": "stream",
     "name": "stdout",
     "text": [
      "epoch : 6, loss : 1.787, 평균 Accuracy : 0.4413756728172302\n"
     ]
    },
    {
     "output_type": "stream",
     "name": "stderr",
     "text": [
      "<ipython-input-42-be1ecc8a78e6>:23: DeprecationWarning: an integer is required (got type numpy.float64).  Implicit conversion to integers using __int__ is deprecated, and may be removed in a future version of Python.\n",
      "  return X, torch.tensor(y, dtype=torch.long)\n",
      "<ipython-input-42-be1ecc8a78e6>:23: DeprecationWarning: an integer is required (got type numpy.float64).  Implicit conversion to integers using __int__ is deprecated, and may be removed in a future version of Python.\n",
      "  return X, torch.tensor(y, dtype=torch.long)\n",
      "<ipython-input-42-be1ecc8a78e6>:23: DeprecationWarning: an integer is required (got type numpy.float64).  Implicit conversion to integers using __int__ is deprecated, and may be removed in a future version of Python.\n",
      "  return X, torch.tensor(y, dtype=torch.long)\n",
      "<ipython-input-42-be1ecc8a78e6>:23: DeprecationWarning: an integer is required (got type numpy.float64).  Implicit conversion to integers using __int__ is deprecated, and may be removed in a future version of Python.\n",
      "  return X, torch.tensor(y, dtype=torch.long)\n",
      "100%|██████████| 296/296 [01:25<00:00,  3.47it/s]\n",
      "  0%|          | 0/296 [00:00<?, ?it/s]"
     ]
    },
    {
     "output_type": "stream",
     "name": "stdout",
     "text": [
      "epoch : 7, loss : 1.767, 평균 Accuracy : 0.44544973969459534\n"
     ]
    },
    {
     "output_type": "stream",
     "name": "stderr",
     "text": [
      "<ipython-input-42-be1ecc8a78e6>:23: DeprecationWarning: an integer is required (got type numpy.float64).  Implicit conversion to integers using __int__ is deprecated, and may be removed in a future version of Python.\n",
      "  return X, torch.tensor(y, dtype=torch.long)\n",
      "<ipython-input-42-be1ecc8a78e6>:23: DeprecationWarning: an integer is required (got type numpy.float64).  Implicit conversion to integers using __int__ is deprecated, and may be removed in a future version of Python.\n",
      "  return X, torch.tensor(y, dtype=torch.long)\n",
      "<ipython-input-42-be1ecc8a78e6>:23: DeprecationWarning: an integer is required (got type numpy.float64).  Implicit conversion to integers using __int__ is deprecated, and may be removed in a future version of Python.\n",
      "  return X, torch.tensor(y, dtype=torch.long)\n",
      "<ipython-input-42-be1ecc8a78e6>:23: DeprecationWarning: an integer is required (got type numpy.float64).  Implicit conversion to integers using __int__ is deprecated, and may be removed in a future version of Python.\n",
      "  return X, torch.tensor(y, dtype=torch.long)\n",
      "100%|██████████| 296/296 [01:25<00:00,  3.46it/s]\n",
      "  0%|          | 0/296 [00:00<?, ?it/s]"
     ]
    },
    {
     "output_type": "stream",
     "name": "stdout",
     "text": [
      "epoch : 8, loss : 1.736, 평균 Accuracy : 0.45312169194221497\n"
     ]
    },
    {
     "output_type": "stream",
     "name": "stderr",
     "text": [
      "<ipython-input-42-be1ecc8a78e6>:23: DeprecationWarning: an integer is required (got type numpy.float64).  Implicit conversion to integers using __int__ is deprecated, and may be removed in a future version of Python.\n",
      "  return X, torch.tensor(y, dtype=torch.long)\n",
      "<ipython-input-42-be1ecc8a78e6>:23: DeprecationWarning: an integer is required (got type numpy.float64).  Implicit conversion to integers using __int__ is deprecated, and may be removed in a future version of Python.\n",
      "  return X, torch.tensor(y, dtype=torch.long)\n",
      "<ipython-input-42-be1ecc8a78e6>:23: DeprecationWarning: an integer is required (got type numpy.float64).  Implicit conversion to integers using __int__ is deprecated, and may be removed in a future version of Python.\n",
      "  return X, torch.tensor(y, dtype=torch.long)\n",
      "<ipython-input-42-be1ecc8a78e6>:23: DeprecationWarning: an integer is required (got type numpy.float64).  Implicit conversion to integers using __int__ is deprecated, and may be removed in a future version of Python.\n",
      "  return X, torch.tensor(y, dtype=torch.long)\n",
      "100%|██████████| 296/296 [01:25<00:00,  3.46it/s]"
     ]
    },
    {
     "output_type": "stream",
     "name": "stdout",
     "text": [
      "epoch : 9, loss : 1.707, 평균 Accuracy : 0.4600529372692108\n"
     ]
    },
    {
     "output_type": "stream",
     "name": "stderr",
     "text": [
      "\n"
     ]
    }
   ],
   "metadata": {}
  },
  {
   "cell_type": "markdown",
   "source": [
    "center crop : 250\n",
    "\n",
    "batch_size = 64\n",
    "\n",
    "epoch : 9, loss : 1.707, 평균 Accuracy : 0.4600529372692108"
   ],
   "metadata": {}
  },
  {
   "cell_type": "code",
   "execution_count": null,
   "source": [],
   "outputs": [],
   "metadata": {}
  }
 ],
 "metadata": {
  "orig_nbformat": 4,
  "language_info": {
   "name": "python",
   "version": "3.8.5",
   "mimetype": "text/x-python",
   "codemirror_mode": {
    "name": "ipython",
    "version": 3
   },
   "pygments_lexer": "ipython3",
   "nbconvert_exporter": "python",
   "file_extension": ".py"
  },
  "kernelspec": {
   "name": "python3",
   "display_name": "Python 3.8.5 64-bit ('base': conda)"
  },
  "interpreter": {
   "hash": "98b0a9b7b4eaaa670588a142fd0a9b87eaafe866f1db4228be72b4211d12040f"
  }
 },
 "nbformat": 4,
 "nbformat_minor": 2
}