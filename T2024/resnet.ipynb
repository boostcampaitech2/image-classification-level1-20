{
 "cells": [
  {
   "cell_type": "markdown",
   "source": [
    "## Library"
   ],
   "metadata": {
    "tags": []
   }
  },
  {
   "cell_type": "code",
   "execution_count": 31,
   "source": [
    "import numpy as np\n",
    "import pandas as pd\n",
    "import random\n",
    "from PIL import Image"
   ],
   "outputs": [],
   "metadata": {}
  },
  {
   "cell_type": "code",
   "execution_count": 32,
   "source": [
    "import torch\n",
    "from torch import nn\n",
    "import torch.nn.functional as F\n",
    "from torch.utils.data import Dataset, DataLoader, random_split\n",
    "\n",
    "from torchvision import transforms\n",
    "from torchvision.transforms import Resize, ToTensor, Normalize"
   ],
   "outputs": [],
   "metadata": {}
  },
  {
   "cell_type": "code",
   "execution_count": 33,
   "source": [
    "import warnings\n",
    "warnings.filterwarnings(\"ignore\")"
   ],
   "outputs": [],
   "metadata": {}
  },
  {
   "cell_type": "code",
   "execution_count": 34,
   "source": [
    "from PIL import ImageFile\n",
    "ImageFile.LOAD_TRUNCATED_IMAGES = True"
   ],
   "outputs": [],
   "metadata": {}
  },
  {
   "cell_type": "code",
   "execution_count": 35,
   "source": [
    "print (\"PyTorch version:[%s].\"%(torch.__version__))\n",
    "device = torch.device('cuda' if torch.cuda.is_available() else 'cpu') #'cuda:0'\n",
    "print (\"device:[%s].\"%(device))"
   ],
   "outputs": [
    {
     "output_type": "stream",
     "name": "stdout",
     "text": [
      "PyTorch version:[1.7.1].\n",
      "device:[cuda].\n"
     ]
    }
   ],
   "metadata": {}
  },
  {
   "cell_type": "code",
   "execution_count": 36,
   "source": [
    "# seed 고정\n",
    "def set_seed(random_seed):\n",
    "    torch.manual_seed(random_seed)\n",
    "    torch.cuda.manual_seed(random_seed)\n",
    "    torch.cuda.manual_seed_all(random_seed)  # if use multi-GPU\n",
    "    torch.backends.cudnn.deterministic = True\n",
    "    torch.backends.cudnn.benchmark = False\n",
    "    np.random.seed(random_seed)\n",
    "    random.seed(random_seed)\n",
    "    \n",
    "set_seed(42)"
   ],
   "outputs": [],
   "metadata": {}
  },
  {
   "cell_type": "markdown",
   "source": [
    "## Dataset"
   ],
   "metadata": {
    "tags": []
   }
  },
  {
   "cell_type": "code",
   "execution_count": 37,
   "source": [
    "TRAIN_PATH = '/opt/ml/input/data/train/data.csv'"
   ],
   "outputs": [],
   "metadata": {}
  },
  {
   "cell_type": "code",
   "execution_count": 38,
   "source": [
    "class Custom_Dataset(Dataset):\n",
    "    def __init__(self, path, target, transforms, train=True):\n",
    "        self.train = train\n",
    "        self.path = path\n",
    "        self.transform = transforms\n",
    "        \n",
    "        self.data = pd.read_csv(path, index_col=0)\n",
    "        self.data = self.data.sample(frac=1).reset_index(drop=True)\n",
    "\n",
    "        if self.train:\n",
    "            self.data = self.data[:int(len(self.data) * 0.8)]\n",
    "        else:\n",
    "            self.data = self.data[int(len(self.data) * 0.8 + 1):]\n",
    "        \n",
    "        self.classes = np.sort(self.data[target].unique())\n",
    "        self.y = self.data[target]\n",
    "        self.X = []\n",
    "        \n",
    "        for path in self.data['path']:\n",
    "            im = Image.open(path)\n",
    "            self.X.append(im)\n",
    "        \n",
    "\n",
    "    def __len__(self):\n",
    "        return len(self.y)\n",
    "\n",
    "    def __getitem__(self, idx):\n",
    "        X, y = self.X[idx], self.y[idx]\n",
    "        if self.transform:\n",
    "          X = self.transform(X)\n",
    "        return X, torch.tensor(y, dtype=torch.long)"
   ],
   "outputs": [],
   "metadata": {}
  },
  {
   "cell_type": "code",
   "execution_count": 39,
   "source": [
    "# dataset = Custom_Dataset(path=TRAIN_PATH, target='class', transforms=transforms.Compose([transforms.ToTensor()]), train=True)\n",
    "\n",
    "# mean_rgb = [np.mean(x.numpy(), axis=(1,2)) for x, _ in dataset]\n",
    "# std_rgb = [np.std(x.numpy(), axis=(1,2)) for x, _ in dataset]"
   ],
   "outputs": [],
   "metadata": {}
  },
  {
   "cell_type": "code",
   "execution_count": 40,
   "source": [
    "# mean_r = np.mean([m[0] for m in mean_rgb])\n",
    "# mean_g = np.mean([m[1] for m in mean_rgb])\n",
    "# mean_b = np.mean([m[2] for m in mean_rgb])\n",
    "\n",
    "# std_r = np.mean([s[0] for s in std_rgb])\n",
    "# std_g = np.mean([s[1] for s in std_rgb])\n",
    "# std_b = np.mean([s[2] for s in std_rgb])"
   ],
   "outputs": [],
   "metadata": {}
  },
  {
   "cell_type": "code",
   "execution_count": 41,
   "source": [
    "# print(mean_r, mean_g, mean_b)\n",
    "# print(std_r, std_g, std_b)"
   ],
   "outputs": [],
   "metadata": {}
  },
  {
   "cell_type": "code",
   "execution_count": 42,
   "source": [
    "mean_r, mean_g, mean_b = 0.5601936, 0.52410126, 0.501457\n",
    "std_r, std_g, std_b = 0.23318605, 0.24300034, 0.24567522"
   ],
   "outputs": [],
   "metadata": {}
  },
  {
   "cell_type": "code",
   "execution_count": 43,
   "source": [
    "transform = transforms.Compose([\n",
    "    transforms.CenterCrop(244),\n",
    "    transforms.ToTensor(),\n",
    "    transforms.Normalize((mean_r, mean_g, mean_b),(std_r, std_g, std_b))\n",
    "])"
   ],
   "outputs": [],
   "metadata": {}
  },
  {
   "cell_type": "code",
   "execution_count": 44,
   "source": [
    "train_dataset = Custom_Dataset(path=TRAIN_PATH, target='class', transforms=transform, train=True)\n",
    "test_dataset = Custom_Dataset(path=TRAIN_PATH, target='class', transforms=transform, train=False)"
   ],
   "outputs": [],
   "metadata": {}
  },
  {
   "cell_type": "code",
   "execution_count": 45,
   "source": [
    "train_dataloader = DataLoader(train_dataset, batch_size=18, shuffle=True, num_workers=1)\n",
    "test_dataloader = DataLoader(test_dataset, batch_size=1, shuffle=True, num_workers=1)"
   ],
   "outputs": [],
   "metadata": {}
  },
  {
   "cell_type": "code",
   "execution_count": 46,
   "source": [
    "# Sample Image\n",
    "import matplotlib.pyplot as plt\n",
    "image, label = next(iter(train_dataset))\n",
    "\n",
    "image = image.permute(1,2,0)\n",
    "plt.imshow(image)\n",
    "\n",
    "print(image.shape)"
   ],
   "outputs": [
    {
     "output_type": "stream",
     "name": "stderr",
     "text": [
      "Clipping input data to the valid range for imshow with RGB data ([0..1] for floats or [0..255] for integers).\n"
     ]
    },
    {
     "output_type": "stream",
     "name": "stdout",
     "text": [
      "torch.Size([244, 244, 3])\n"
     ]
    },
    {
     "output_type": "display_data",
     "data": {
      "text/plain": [
       "<Figure size 432x288 with 1 Axes>"
      ],
      "image/svg+xml": "<?xml version=\"1.0\" encoding=\"utf-8\" standalone=\"no\"?>\n<!DOCTYPE svg PUBLIC \"-//W3C//DTD SVG 1.1//EN\"\n  \"http://www.w3.org/Graphics/SVG/1.1/DTD/svg11.dtd\">\n<!-- Created with matplotlib (https://matplotlib.org/) -->\n<svg height=\"251.87177pt\" version=\"1.1\" viewBox=\"0 0 257.9275 251.87177\" width=\"257.9275pt\" xmlns=\"http://www.w3.org/2000/svg\" xmlns:xlink=\"http://www.w3.org/1999/xlink\">\n <defs>\n  <style type=\"text/css\">\n*{stroke-linecap:butt;stroke-linejoin:round;}\n  </style>\n </defs>\n <g id=\"figure_1\">\n  <g id=\"patch_1\">\n   <path d=\"M 0 251.87177 \nL 257.9275 251.87177 \nL 257.9275 0 \nL 0 0 \nz\n\" style=\"fill:none;\"/>\n  </g>\n  <g id=\"axes_1\">\n   <g id=\"patch_2\">\n    <path d=\"M 33.2875 227.993645 \nL 250.7275 227.993645 \nL 250.7275 10.553645 \nL 33.2875 10.553645 \nz\n\" style=\"fill:#ffffff;\"/>\n   </g>\n   <g clip-path=\"url(#p2816dc8998)\">\n    <image height=\"218\" id=\"image8c838fbd92\" transform=\"scale(1 -1)translate(0 -218)\" width=\"218\" x=\"33.2875\" xlink:href=\"data:image/png;base64,\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\" y=\"-9.993645\"/>\n   </g>\n   <g id=\"matplotlib.axis_1\">\n    <g id=\"xtick_1\">\n     <g id=\"line2d_1\">\n      <defs>\n       <path d=\"M 0 0 \nL 0 3.5 \n\" id=\"m78aff6e341\" style=\"stroke:#000000;stroke-width:0.8;\"/>\n      </defs>\n      <g>\n       <use style=\"stroke:#000000;stroke-width:0.8;\" x=\"33.733074\" xlink:href=\"#m78aff6e341\" y=\"227.993645\"/>\n      </g>\n     </g>\n     <g id=\"text_1\">\n      <!-- 0 -->\n      <defs>\n       <path d=\"M 31.78125 66.40625 \nQ 24.171875 66.40625 20.328125 58.90625 \nQ 16.5 51.421875 16.5 36.375 \nQ 16.5 21.390625 20.328125 13.890625 \nQ 24.171875 6.390625 31.78125 6.390625 \nQ 39.453125 6.390625 43.28125 13.890625 \nQ 47.125 21.390625 47.125 36.375 \nQ 47.125 51.421875 43.28125 58.90625 \nQ 39.453125 66.40625 31.78125 66.40625 \nz\nM 31.78125 74.21875 \nQ 44.046875 74.21875 50.515625 64.515625 \nQ 56.984375 54.828125 56.984375 36.375 \nQ 56.984375 17.96875 50.515625 8.265625 \nQ 44.046875 -1.421875 31.78125 -1.421875 \nQ 19.53125 -1.421875 13.0625 8.265625 \nQ 6.59375 17.96875 6.59375 36.375 \nQ 6.59375 54.828125 13.0625 64.515625 \nQ 19.53125 74.21875 31.78125 74.21875 \nz\n\" id=\"DejaVuSans-48\"/>\n      </defs>\n      <g transform=\"translate(30.551824 242.592082)scale(0.1 -0.1)\">\n       <use xlink:href=\"#DejaVuSans-48\"/>\n      </g>\n     </g>\n    </g>\n    <g id=\"xtick_2\">\n     <g id=\"line2d_2\">\n      <g>\n       <use style=\"stroke:#000000;stroke-width:0.8;\" x=\"78.290451\" xlink:href=\"#m78aff6e341\" y=\"227.993645\"/>\n      </g>\n     </g>\n     <g id=\"text_2\">\n      <!-- 50 -->\n      <defs>\n       <path d=\"M 10.796875 72.90625 \nL 49.515625 72.90625 \nL 49.515625 64.59375 \nL 19.828125 64.59375 \nL 19.828125 46.734375 \nQ 21.96875 47.46875 24.109375 47.828125 \nQ 26.265625 48.1875 28.421875 48.1875 \nQ 40.625 48.1875 47.75 41.5 \nQ 54.890625 34.8125 54.890625 23.390625 \nQ 54.890625 11.625 47.5625 5.09375 \nQ 40.234375 -1.421875 26.90625 -1.421875 \nQ 22.3125 -1.421875 17.546875 -0.640625 \nQ 12.796875 0.140625 7.71875 1.703125 \nL 7.71875 11.625 \nQ 12.109375 9.234375 16.796875 8.0625 \nQ 21.484375 6.890625 26.703125 6.890625 \nQ 35.15625 6.890625 40.078125 11.328125 \nQ 45.015625 15.765625 45.015625 23.390625 \nQ 45.015625 31 40.078125 35.4375 \nQ 35.15625 39.890625 26.703125 39.890625 \nQ 22.75 39.890625 18.8125 39.015625 \nQ 14.890625 38.140625 10.796875 36.28125 \nz\n\" id=\"DejaVuSans-53\"/>\n      </defs>\n      <g transform=\"translate(71.927951 242.592082)scale(0.1 -0.1)\">\n       <use xlink:href=\"#DejaVuSans-53\"/>\n       <use x=\"63.623047\" xlink:href=\"#DejaVuSans-48\"/>\n      </g>\n     </g>\n    </g>\n    <g id=\"xtick_3\">\n     <g id=\"line2d_3\">\n      <g>\n       <use style=\"stroke:#000000;stroke-width:0.8;\" x=\"122.847828\" xlink:href=\"#m78aff6e341\" y=\"227.993645\"/>\n      </g>\n     </g>\n     <g id=\"text_3\">\n      <!-- 100 -->\n      <defs>\n       <path d=\"M 12.40625 8.296875 \nL 28.515625 8.296875 \nL 28.515625 63.921875 \nL 10.984375 60.40625 \nL 10.984375 69.390625 \nL 28.421875 72.90625 \nL 38.28125 72.90625 \nL 38.28125 8.296875 \nL 54.390625 8.296875 \nL 54.390625 0 \nL 12.40625 0 \nz\n\" id=\"DejaVuSans-49\"/>\n      </defs>\n      <g transform=\"translate(113.304078 242.592082)scale(0.1 -0.1)\">\n       <use xlink:href=\"#DejaVuSans-49\"/>\n       <use x=\"63.623047\" xlink:href=\"#DejaVuSans-48\"/>\n       <use x=\"127.246094\" xlink:href=\"#DejaVuSans-48\"/>\n      </g>\n     </g>\n    </g>\n    <g id=\"xtick_4\">\n     <g id=\"line2d_4\">\n      <g>\n       <use style=\"stroke:#000000;stroke-width:0.8;\" x=\"167.405205\" xlink:href=\"#m78aff6e341\" y=\"227.993645\"/>\n      </g>\n     </g>\n     <g id=\"text_4\">\n      <!-- 150 -->\n      <g transform=\"translate(157.861455 242.592082)scale(0.1 -0.1)\">\n       <use xlink:href=\"#DejaVuSans-49\"/>\n       <use x=\"63.623047\" xlink:href=\"#DejaVuSans-53\"/>\n       <use x=\"127.246094\" xlink:href=\"#DejaVuSans-48\"/>\n      </g>\n     </g>\n    </g>\n    <g id=\"xtick_5\">\n     <g id=\"line2d_5\">\n      <g>\n       <use style=\"stroke:#000000;stroke-width:0.8;\" x=\"211.962582\" xlink:href=\"#m78aff6e341\" y=\"227.993645\"/>\n      </g>\n     </g>\n     <g id=\"text_5\">\n      <!-- 200 -->\n      <defs>\n       <path d=\"M 19.1875 8.296875 \nL 53.609375 8.296875 \nL 53.609375 0 \nL 7.328125 0 \nL 7.328125 8.296875 \nQ 12.9375 14.109375 22.625 23.890625 \nQ 32.328125 33.6875 34.8125 36.53125 \nQ 39.546875 41.84375 41.421875 45.53125 \nQ 43.3125 49.21875 43.3125 52.78125 \nQ 43.3125 58.59375 39.234375 62.25 \nQ 35.15625 65.921875 28.609375 65.921875 \nQ 23.96875 65.921875 18.8125 64.3125 \nQ 13.671875 62.703125 7.8125 59.421875 \nL 7.8125 69.390625 \nQ 13.765625 71.78125 18.9375 73 \nQ 24.125 74.21875 28.421875 74.21875 \nQ 39.75 74.21875 46.484375 68.546875 \nQ 53.21875 62.890625 53.21875 53.421875 \nQ 53.21875 48.921875 51.53125 44.890625 \nQ 49.859375 40.875 45.40625 35.40625 \nQ 44.1875 33.984375 37.640625 27.21875 \nQ 31.109375 20.453125 19.1875 8.296875 \nz\n\" id=\"DejaVuSans-50\"/>\n      </defs>\n      <g transform=\"translate(202.418832 242.592082)scale(0.1 -0.1)\">\n       <use xlink:href=\"#DejaVuSans-50\"/>\n       <use x=\"63.623047\" xlink:href=\"#DejaVuSans-48\"/>\n       <use x=\"127.246094\" xlink:href=\"#DejaVuSans-48\"/>\n      </g>\n     </g>\n    </g>\n   </g>\n   <g id=\"matplotlib.axis_2\">\n    <g id=\"ytick_1\">\n     <g id=\"line2d_6\">\n      <defs>\n       <path d=\"M 0 0 \nL -3.5 0 \n\" id=\"maa910559be\" style=\"stroke:#000000;stroke-width:0.8;\"/>\n      </defs>\n      <g>\n       <use style=\"stroke:#000000;stroke-width:0.8;\" x=\"33.2875\" xlink:href=\"#maa910559be\" y=\"10.999219\"/>\n      </g>\n     </g>\n     <g id=\"text_6\">\n      <!-- 0 -->\n      <g transform=\"translate(19.925 14.798437)scale(0.1 -0.1)\">\n       <use xlink:href=\"#DejaVuSans-48\"/>\n      </g>\n     </g>\n    </g>\n    <g id=\"ytick_2\">\n     <g id=\"line2d_7\">\n      <g>\n       <use style=\"stroke:#000000;stroke-width:0.8;\" x=\"33.2875\" xlink:href=\"#maa910559be\" y=\"55.556596\"/>\n      </g>\n     </g>\n     <g id=\"text_7\">\n      <!-- 50 -->\n      <g transform=\"translate(13.5625 59.355815)scale(0.1 -0.1)\">\n       <use xlink:href=\"#DejaVuSans-53\"/>\n       <use x=\"63.623047\" xlink:href=\"#DejaVuSans-48\"/>\n      </g>\n     </g>\n    </g>\n    <g id=\"ytick_3\">\n     <g id=\"line2d_8\">\n      <g>\n       <use style=\"stroke:#000000;stroke-width:0.8;\" x=\"33.2875\" xlink:href=\"#maa910559be\" y=\"100.113973\"/>\n      </g>\n     </g>\n     <g id=\"text_8\">\n      <!-- 100 -->\n      <g transform=\"translate(7.2 103.913192)scale(0.1 -0.1)\">\n       <use xlink:href=\"#DejaVuSans-49\"/>\n       <use x=\"63.623047\" xlink:href=\"#DejaVuSans-48\"/>\n       <use x=\"127.246094\" xlink:href=\"#DejaVuSans-48\"/>\n      </g>\n     </g>\n    </g>\n    <g id=\"ytick_4\">\n     <g id=\"line2d_9\">\n      <g>\n       <use style=\"stroke:#000000;stroke-width:0.8;\" x=\"33.2875\" xlink:href=\"#maa910559be\" y=\"144.67135\"/>\n      </g>\n     </g>\n     <g id=\"text_9\">\n      <!-- 150 -->\n      <g transform=\"translate(7.2 148.470569)scale(0.1 -0.1)\">\n       <use xlink:href=\"#DejaVuSans-49\"/>\n       <use x=\"63.623047\" xlink:href=\"#DejaVuSans-53\"/>\n       <use x=\"127.246094\" xlink:href=\"#DejaVuSans-48\"/>\n      </g>\n     </g>\n    </g>\n    <g id=\"ytick_5\">\n     <g id=\"line2d_10\">\n      <g>\n       <use style=\"stroke:#000000;stroke-width:0.8;\" x=\"33.2875\" xlink:href=\"#maa910559be\" y=\"189.228727\"/>\n      </g>\n     </g>\n     <g id=\"text_10\">\n      <!-- 200 -->\n      <g transform=\"translate(7.2 193.027946)scale(0.1 -0.1)\">\n       <use xlink:href=\"#DejaVuSans-50\"/>\n       <use x=\"63.623047\" xlink:href=\"#DejaVuSans-48\"/>\n       <use x=\"127.246094\" xlink:href=\"#DejaVuSans-48\"/>\n      </g>\n     </g>\n    </g>\n   </g>\n   <g id=\"patch_3\">\n    <path d=\"M 33.2875 227.993645 \nL 33.2875 10.553645 \n\" style=\"fill:none;stroke:#000000;stroke-linecap:square;stroke-linejoin:miter;stroke-width:0.8;\"/>\n   </g>\n   <g id=\"patch_4\">\n    <path d=\"M 250.7275 227.993645 \nL 250.7275 10.553645 \n\" style=\"fill:none;stroke:#000000;stroke-linecap:square;stroke-linejoin:miter;stroke-width:0.8;\"/>\n   </g>\n   <g id=\"patch_5\">\n    <path d=\"M 33.2875 227.993645 \nL 250.7275 227.993645 \n\" style=\"fill:none;stroke:#000000;stroke-linecap:square;stroke-linejoin:miter;stroke-width:0.8;\"/>\n   </g>\n   <g id=\"patch_6\">\n    <path d=\"M 33.2875 10.553645 \nL 250.7275 10.553645 \n\" style=\"fill:none;stroke:#000000;stroke-linecap:square;stroke-linejoin:miter;stroke-width:0.8;\"/>\n   </g>\n  </g>\n </g>\n <defs>\n  <clipPath id=\"p2816dc8998\">\n   <rect height=\"217.44\" width=\"217.44\" x=\"33.2875\" y=\"10.553645\"/>\n  </clipPath>\n </defs>\n</svg>\n",
      "image/png": "[encoded data removed]"
     },
     "metadata": {
      "needs_background": "light"
     }
    }
   ],
   "metadata": {}
  },
  {
   "cell_type": "markdown",
   "source": [
    "## Model"
   ],
   "metadata": {}
  },
  {
   "cell_type": "code",
   "execution_count": 47,
   "source": [
    "from torchvision import models"
   ],
   "outputs": [],
   "metadata": {}
  },
  {
   "cell_type": "code",
   "execution_count": 48,
   "source": [
    "resnet = models.resnet18(pretrained=True)"
   ],
   "outputs": [],
   "metadata": {}
  },
  {
   "cell_type": "code",
   "execution_count": 49,
   "source": [
    "CLASS_NUM = 18"
   ],
   "outputs": [],
   "metadata": {}
  },
  {
   "cell_type": "code",
   "execution_count": 50,
   "source": [
    "in_ftr = resnet.fc.in_features\n",
    "resnet.fc = torch.nn.Linear(in_features=in_ftr, out_features=CLASS_NUM, bias=True)\n",
    "resnet.to(device)"
   ],
   "outputs": [
    {
     "output_type": "execute_result",
     "data": {
      "text/plain": [
       "ResNet(\n",
       "  (conv1): Conv2d(3, 64, kernel_size=(7, 7), stride=(2, 2), padding=(3, 3), bias=False)\n",
       "  (bn1): BatchNorm2d(64, eps=1e-05, momentum=0.1, affine=True, track_running_stats=True)\n",
       "  (relu): ReLU(inplace=True)\n",
       "  (maxpool): MaxPool2d(kernel_size=3, stride=2, padding=1, dilation=1, ceil_mode=False)\n",
       "  (layer1): Sequential(\n",
       "    (0): BasicBlock(\n",
       "      (conv1): Conv2d(64, 64, kernel_size=(3, 3), stride=(1, 1), padding=(1, 1), bias=False)\n",
       "      (bn1): BatchNorm2d(64, eps=1e-05, momentum=0.1, affine=True, track_running_stats=True)\n",
       "      (relu): ReLU(inplace=True)\n",
       "      (conv2): Conv2d(64, 64, kernel_size=(3, 3), stride=(1, 1), padding=(1, 1), bias=False)\n",
       "      (bn2): BatchNorm2d(64, eps=1e-05, momentum=0.1, affine=True, track_running_stats=True)\n",
       "    )\n",
       "    (1): BasicBlock(\n",
       "      (conv1): Conv2d(64, 64, kernel_size=(3, 3), stride=(1, 1), padding=(1, 1), bias=False)\n",
       "      (bn1): BatchNorm2d(64, eps=1e-05, momentum=0.1, affine=True, track_running_stats=True)\n",
       "      (relu): ReLU(inplace=True)\n",
       "      (conv2): Conv2d(64, 64, kernel_size=(3, 3), stride=(1, 1), padding=(1, 1), bias=False)\n",
       "      (bn2): BatchNorm2d(64, eps=1e-05, momentum=0.1, affine=True, track_running_stats=True)\n",
       "    )\n",
       "  )\n",
       "  (layer2): Sequential(\n",
       "    (0): BasicBlock(\n",
       "      (conv1): Conv2d(64, 128, kernel_size=(3, 3), stride=(2, 2), padding=(1, 1), bias=False)\n",
       "      (bn1): BatchNorm2d(128, eps=1e-05, momentum=0.1, affine=True, track_running_stats=True)\n",
       "      (relu): ReLU(inplace=True)\n",
       "      (conv2): Conv2d(128, 128, kernel_size=(3, 3), stride=(1, 1), padding=(1, 1), bias=False)\n",
       "      (bn2): BatchNorm2d(128, eps=1e-05, momentum=0.1, affine=True, track_running_stats=True)\n",
       "      (downsample): Sequential(\n",
       "        (0): Conv2d(64, 128, kernel_size=(1, 1), stride=(2, 2), bias=False)\n",
       "        (1): BatchNorm2d(128, eps=1e-05, momentum=0.1, affine=True, track_running_stats=True)\n",
       "      )\n",
       "    )\n",
       "    (1): BasicBlock(\n",
       "      (conv1): Conv2d(128, 128, kernel_size=(3, 3), stride=(1, 1), padding=(1, 1), bias=False)\n",
       "      (bn1): BatchNorm2d(128, eps=1e-05, momentum=0.1, affine=True, track_running_stats=True)\n",
       "      (relu): ReLU(inplace=True)\n",
       "      (conv2): Conv2d(128, 128, kernel_size=(3, 3), stride=(1, 1), padding=(1, 1), bias=False)\n",
       "      (bn2): BatchNorm2d(128, eps=1e-05, momentum=0.1, affine=True, track_running_stats=True)\n",
       "    )\n",
       "  )\n",
       "  (layer3): Sequential(\n",
       "    (0): BasicBlock(\n",
       "      (conv1): Conv2d(128, 256, kernel_size=(3, 3), stride=(2, 2), padding=(1, 1), bias=False)\n",
       "      (bn1): BatchNorm2d(256, eps=1e-05, momentum=0.1, affine=True, track_running_stats=True)\n",
       "      (relu): ReLU(inplace=True)\n",
       "      (conv2): Conv2d(256, 256, kernel_size=(3, 3), stride=(1, 1), padding=(1, 1), bias=False)\n",
       "      (bn2): BatchNorm2d(256, eps=1e-05, momentum=0.1, affine=True, track_running_stats=True)\n",
       "      (downsample): Sequential(\n",
       "        (0): Conv2d(128, 256, kernel_size=(1, 1), stride=(2, 2), bias=False)\n",
       "        (1): BatchNorm2d(256, eps=1e-05, momentum=0.1, affine=True, track_running_stats=True)\n",
       "      )\n",
       "    )\n",
       "    (1): BasicBlock(\n",
       "      (conv1): Conv2d(256, 256, kernel_size=(3, 3), stride=(1, 1), padding=(1, 1), bias=False)\n",
       "      (bn1): BatchNorm2d(256, eps=1e-05, momentum=0.1, affine=True, track_running_stats=True)\n",
       "      (relu): ReLU(inplace=True)\n",
       "      (conv2): Conv2d(256, 256, kernel_size=(3, 3), stride=(1, 1), padding=(1, 1), bias=False)\n",
       "      (bn2): BatchNorm2d(256, eps=1e-05, momentum=0.1, affine=True, track_running_stats=True)\n",
       "    )\n",
       "  )\n",
       "  (layer4): Sequential(\n",
       "    (0): BasicBlock(\n",
       "      (conv1): Conv2d(256, 512, kernel_size=(3, 3), stride=(2, 2), padding=(1, 1), bias=False)\n",
       "      (bn1): BatchNorm2d(512, eps=1e-05, momentum=0.1, affine=True, track_running_stats=True)\n",
       "      (relu): ReLU(inplace=True)\n",
       "      (conv2): Conv2d(512, 512, kernel_size=(3, 3), stride=(1, 1), padding=(1, 1), bias=False)\n",
       "      (bn2): BatchNorm2d(512, eps=1e-05, momentum=0.1, affine=True, track_running_stats=True)\n",
       "      (downsample): Sequential(\n",
       "        (0): Conv2d(256, 512, kernel_size=(1, 1), stride=(2, 2), bias=False)\n",
       "        (1): BatchNorm2d(512, eps=1e-05, momentum=0.1, affine=True, track_running_stats=True)\n",
       "      )\n",
       "    )\n",
       "    (1): BasicBlock(\n",
       "      (conv1): Conv2d(512, 512, kernel_size=(3, 3), stride=(1, 1), padding=(1, 1), bias=False)\n",
       "      (bn1): BatchNorm2d(512, eps=1e-05, momentum=0.1, affine=True, track_running_stats=True)\n",
       "      (relu): ReLU(inplace=True)\n",
       "      (conv2): Conv2d(512, 512, kernel_size=(3, 3), stride=(1, 1), padding=(1, 1), bias=False)\n",
       "      (bn2): BatchNorm2d(512, eps=1e-05, momentum=0.1, affine=True, track_running_stats=True)\n",
       "    )\n",
       "  )\n",
       "  (avgpool): AdaptiveAvgPool2d(output_size=(1, 1))\n",
       "  (fc): Linear(in_features=512, out_features=18, bias=True)\n",
       ")"
      ]
     },
     "metadata": {},
     "execution_count": 50
    }
   ],
   "metadata": {}
  },
  {
   "cell_type": "markdown",
   "source": [
    "## Mask"
   ],
   "metadata": {}
  },
  {
   "cell_type": "code",
   "execution_count": 51,
   "source": [
    "from torchsummary import summary\n",
    "summary(resnet, input_size=(3, 244, 244), device=device.type)"
   ],
   "outputs": [
    {
     "output_type": "stream",
     "name": "stdout",
     "text": [
      "----------------------------------------------------------------\n",
      "        Layer (type)               Output Shape         Param #\n",
      "================================================================\n",
      "            Conv2d-1         [-1, 64, 122, 122]           9,408\n",
      "       BatchNorm2d-2         [-1, 64, 122, 122]             128\n",
      "              ReLU-3         [-1, 64, 122, 122]               0\n",
      "         MaxPool2d-4           [-1, 64, 61, 61]               0\n",
      "            Conv2d-5           [-1, 64, 61, 61]          36,864\n",
      "       BatchNorm2d-6           [-1, 64, 61, 61]             128\n",
      "              ReLU-7           [-1, 64, 61, 61]               0\n",
      "            Conv2d-8           [-1, 64, 61, 61]          36,864\n",
      "       BatchNorm2d-9           [-1, 64, 61, 61]             128\n",
      "             ReLU-10           [-1, 64, 61, 61]               0\n",
      "       BasicBlock-11           [-1, 64, 61, 61]               0\n",
      "           Conv2d-12           [-1, 64, 61, 61]          36,864\n",
      "      BatchNorm2d-13           [-1, 64, 61, 61]             128\n",
      "             ReLU-14           [-1, 64, 61, 61]               0\n",
      "           Conv2d-15           [-1, 64, 61, 61]          36,864\n",
      "      BatchNorm2d-16           [-1, 64, 61, 61]             128\n",
      "             ReLU-17           [-1, 64, 61, 61]               0\n",
      "       BasicBlock-18           [-1, 64, 61, 61]               0\n",
      "           Conv2d-19          [-1, 128, 31, 31]          73,728\n",
      "      BatchNorm2d-20          [-1, 128, 31, 31]             256\n",
      "             ReLU-21          [-1, 128, 31, 31]               0\n",
      "           Conv2d-22          [-1, 128, 31, 31]         147,456\n",
      "      BatchNorm2d-23          [-1, 128, 31, 31]             256\n",
      "           Conv2d-24          [-1, 128, 31, 31]           8,192\n",
      "      BatchNorm2d-25          [-1, 128, 31, 31]             256\n",
      "             ReLU-26          [-1, 128, 31, 31]               0\n",
      "       BasicBlock-27          [-1, 128, 31, 31]               0\n",
      "           Conv2d-28          [-1, 128, 31, 31]         147,456\n",
      "      BatchNorm2d-29          [-1, 128, 31, 31]             256\n",
      "             ReLU-30          [-1, 128, 31, 31]               0\n",
      "           Conv2d-31          [-1, 128, 31, 31]         147,456\n",
      "      BatchNorm2d-32          [-1, 128, 31, 31]             256\n",
      "             ReLU-33          [-1, 128, 31, 31]               0\n",
      "       BasicBlock-34          [-1, 128, 31, 31]               0\n",
      "           Conv2d-35          [-1, 256, 16, 16]         294,912\n",
      "      BatchNorm2d-36          [-1, 256, 16, 16]             512\n",
      "             ReLU-37          [-1, 256, 16, 16]               0\n",
      "           Conv2d-38          [-1, 256, 16, 16]         589,824\n",
      "      BatchNorm2d-39          [-1, 256, 16, 16]             512\n",
      "           Conv2d-40          [-1, 256, 16, 16]          32,768\n",
      "      BatchNorm2d-41          [-1, 256, 16, 16]             512\n",
      "             ReLU-42          [-1, 256, 16, 16]               0\n",
      "       BasicBlock-43          [-1, 256, 16, 16]               0\n",
      "           Conv2d-44          [-1, 256, 16, 16]         589,824\n",
      "      BatchNorm2d-45          [-1, 256, 16, 16]             512\n",
      "             ReLU-46          [-1, 256, 16, 16]               0\n",
      "           Conv2d-47          [-1, 256, 16, 16]         589,824\n",
      "      BatchNorm2d-48          [-1, 256, 16, 16]             512\n",
      "             ReLU-49          [-1, 256, 16, 16]               0\n",
      "       BasicBlock-50          [-1, 256, 16, 16]               0\n",
      "           Conv2d-51            [-1, 512, 8, 8]       1,179,648\n",
      "      BatchNorm2d-52            [-1, 512, 8, 8]           1,024\n",
      "             ReLU-53            [-1, 512, 8, 8]               0\n",
      "           Conv2d-54            [-1, 512, 8, 8]       2,359,296\n",
      "      BatchNorm2d-55            [-1, 512, 8, 8]           1,024\n",
      "           Conv2d-56            [-1, 512, 8, 8]         131,072\n",
      "      BatchNorm2d-57            [-1, 512, 8, 8]           1,024\n",
      "             ReLU-58            [-1, 512, 8, 8]               0\n",
      "       BasicBlock-59            [-1, 512, 8, 8]               0\n",
      "           Conv2d-60            [-1, 512, 8, 8]       2,359,296\n",
      "      BatchNorm2d-61            [-1, 512, 8, 8]           1,024\n",
      "             ReLU-62            [-1, 512, 8, 8]               0\n",
      "           Conv2d-63            [-1, 512, 8, 8]       2,359,296\n",
      "      BatchNorm2d-64            [-1, 512, 8, 8]           1,024\n",
      "             ReLU-65            [-1, 512, 8, 8]               0\n",
      "       BasicBlock-66            [-1, 512, 8, 8]               0\n",
      "AdaptiveAvgPool2d-67            [-1, 512, 1, 1]               0\n",
      "           Linear-68                   [-1, 18]           9,234\n",
      "================================================================\n",
      "Total params: 11,185,746\n",
      "Trainable params: 11,185,746\n",
      "Non-trainable params: 0\n",
      "----------------------------------------------------------------\n",
      "Input size (MB): 0.68\n",
      "Forward/backward pass size (MB): 76.08\n",
      "Params size (MB): 42.67\n",
      "Estimated Total Size (MB): 119.43\n",
      "----------------------------------------------------------------\n"
     ]
    }
   ],
   "metadata": {}
  },
  {
   "cell_type": "code",
   "execution_count": 76,
   "source": [
    "class F1_Loss(nn.Module):\n",
    "    def __init__(self, classes=18, epsilon=1e-7):\n",
    "        super().__init__()\n",
    "        self.classes = classes\n",
    "        self.epsilon = epsilon\n",
    "\n",
    "    def forward(self, y_pred, y_true):\n",
    "        assert y_pred.ndim == 2\n",
    "        assert y_true.ndim == 1\n",
    "\n",
    "        # ce = nn.functional.cross_entropy(y_pred, y_true)\n",
    "\n",
    "        y_true = F.one_hot(y_true, self.classes).to(torch.float32)\n",
    "        y_pred = F.softmax(y_pred, dim=1)\n",
    "\n",
    "        tp = (y_true * y_pred).sum(dim=0).to(torch.float32)\n",
    "        tn = ((1 - y_true) * (1 - y_pred)).sum(dim=0).to(torch.float32)\n",
    "        fp = ((1 - y_true) * y_pred).sum(dim=0).to(torch.float32)\n",
    "        fn = (y_true * (1 - y_pred)).sum(dim=0).to(torch.float32)\n",
    "\n",
    "        precision = tp / (tp + fp + self.epsilon)\n",
    "        recall = tp / (tp + fn + self.epsilon)\n",
    "\n",
    "        f1 = 2 * (precision * recall) / (precision + recall + self.epsilon)\n",
    "        f1 = f1.clamp(min=self.epsilon, max=1 - self.epsilon)\n",
    "        return (1 - f1.mean())"
   ],
   "outputs": [],
   "metadata": {}
  },
  {
   "cell_type": "code",
   "execution_count": 72,
   "source": [
    "lr_rate = 1e-3\n",
    "epochs = 10\n",
    "\n",
    "loss_fn = F1_Loss().to(device)\n",
    "optimizer = torch.optim.Adam(resnet.parameters(), lr=lr_rate)"
   ],
   "outputs": [],
   "metadata": {}
  },
  {
   "cell_type": "code",
   "execution_count": null,
   "source": [
    "torch.cuda.empty_cache()\n",
    "\n",
    "for epoch in range(epochs):\n",
    "    running_loss = 0\n",
    "    for index, (images, labels) in enumerate(train_dataloader):\n",
    "        images = images.to(device)\n",
    "        labels = labels.to(device)\n",
    "        \n",
    "        optimizer.zero_grad()\n",
    "        logits = resnet(images)\n",
    "        _, preds = torch.max(logits, 1)\n",
    "        loss = loss_fn(logits, labels)\n",
    "        loss.backward()\n",
    "        optimizer.step()\n",
    "        \n",
    "        running_loss += loss.item() * images.size(0)\n",
    "    \n",
    "    epoch_loss = running_loss / len(train_dataloader.dataset)\n",
    "    print(f'epoch : {epoch}, loss : {epoch_loss:.3f}')\n"
   ],
   "outputs": [],
   "metadata": {}
  },
  {
   "cell_type": "markdown",
   "source": [
    "## eval"
   ],
   "metadata": {}
  },
  {
   "cell_type": "code",
   "execution_count": 69,
   "source": [
    "len(test_dataloader.dataset), len(train_dataloader.dataset)"
   ],
   "outputs": [
    {
     "output_type": "execute_result",
     "data": {
      "text/plain": [
       "(3779, 15120)"
      ]
     },
     "metadata": {},
     "execution_count": 69
    }
   ],
   "metadata": {}
  },
  {
   "cell_type": "code",
   "execution_count": null,
   "source": [
    "correct = 0\n",
    "resnet.eval()\n",
    "\n",
    "with torch.no_grad():\n",
    "\tfor index, (image, label) in enumerate(train_dataloader):\n",
    "\t\timage = image.to(device)\n",
    "\t\tlabel = label.to(device)\n",
    "\t\toutput = resnet(image)\n",
    "\t\t_, pred = torch.max(output, 1)\n",
    "\t\tcorrect += (pred == label).sum().item()\n",
    "\t\tprint(index, (pred == label))"
   ],
   "outputs": [],
   "metadata": {}
  },
  {
   "cell_type": "code",
   "execution_count": 64,
   "source": [
    "print('accuracy %f'%(correct.sum() / len(test_dataloader.dataset)))"
   ],
   "outputs": [
    {
     "output_type": "stream",
     "name": "stdout",
     "text": [
      "accuracy 1.116962\n"
     ]
    }
   ],
   "metadata": {}
  },
  {
   "cell_type": "code",
   "execution_count": null,
   "source": [],
   "outputs": [
    {
     "output_type": "execute_result",
     "data": {
      "text/plain": [
       "tensor(4221, device='cuda:0')"
      ]
     },
     "metadata": {},
     "execution_count": 68
    }
   ],
   "metadata": {}
  },
  {
   "cell_type": "markdown",
   "source": [
    "f1_loss -> 8%\n",
    "\n",
    "cross entropy -> ???"
   ],
   "metadata": {}
  },
  {
   "cell_type": "code",
   "execution_count": null,
   "source": [],
   "outputs": [],
   "metadata": {}
  }
 ],
 "metadata": {
  "interpreter": {
   "hash": "98b0a9b7b4eaaa670588a142fd0a9b87eaafe866f1db4228be72b4211d12040f"
  },
  "kernelspec": {
   "name": "python3",
   "display_name": "Python 3.8.5 64-bit ('base': conda)"
  },
  "language_info": {
   "codemirror_mode": {
    "name": "ipython",
    "version": 3
   },
   "file_extension": ".py",
   "mimetype": "text/x-python",
   "name": "python",
   "nbconvert_exporter": "python",
   "pygments_lexer": "ipython3",
   "version": "3.8.5"
  }
 },
 "nbformat": 4,
 "nbformat_minor": 4
}