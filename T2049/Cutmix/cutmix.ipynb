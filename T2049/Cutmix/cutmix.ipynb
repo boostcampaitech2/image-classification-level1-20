{
 "cells": [
  {
   "cell_type": "code",
   "execution_count": 216,
   "source": [
    "import numpy as np\r\n",
    "import torch"
   ],
   "outputs": [],
   "metadata": {}
  },
  {
   "cell_type": "code",
   "execution_count": 236,
   "source": [
    "# 중앙을 중심으로 지킬앤 하이드 처럼 좌우에 컷믹스\r\n",
    "def rand_bbox_normal_left_right(size, lam):\r\n",
    "    H = size[2]\r\n",
    "    W = size[3]\r\n",
    "    cut_rat = np.sqrt(1. - lam)\r\n",
    "    cut_w = int(W * cut_rat)\r\n",
    "    cut_h = int(H * cut_rat)\r\n",
    "\r\n",
    "\r\n",
    "    cx = np.random.randn() + W//2\r\n",
    "    cy = np.random.randn() + H//2\r\n",
    "\r\n",
    "    # 패치의 4점\r\n",
    "    bbx1 = np.clip(cx - cut_w // 2, 0, W//2)\r\n",
    "    bby1 = np.clip(cy - cut_h // 2, 0, H)\r\n",
    "    bbx2 = np.clip(cx + cut_w // 2, 0, W//2)\r\n",
    "    bby2 = np.clip(cy + cut_h // 2, 0, H)\r\n",
    "\r\n",
    "    return int(bbx1), int(bby1), int(bbx2), int(bby2)"
   ],
   "outputs": [],
   "metadata": {}
  },
  {
   "cell_type": "code",
   "execution_count": null,
   "source": [
    "for data, target in tqdm(self.data_loader, leave=False):\r\n",
    "            \r\n",
    "            data = data.to(self.device)\r\n",
    "            target = target.to(self.device)\r\n",
    "\r\n",
    "            # 일정 확률로 컷믹스\r\n",
    "            if np.random.random() > 0.5:\r\n",
    "\r\n",
    "                rand_index = torch.randperm(data.size()[0]) # 패치에 사용할 label\r\n",
    "                target_a = target # 원본 이미지 label\r\n",
    "                target_b = target[rand_index] # 패치 이미지 label  \r\n",
    "                lam = np.random.beta(1.0, 1.0)     \r\n",
    "                bbx1, bby1, bbx2, bby2 = rand_bbox(data.size(), lam)\r\n",
    "\r\n",
    "                # 원본 데이터에 컷믹스 패치\r\n",
    "                data[:, :, bbx1:bbx2, bby1:bby2] = data[rand_index, :, bbx1:bbx2, bby1:bby2]\r\n",
    "\r\n",
    "                # 원본 이미지와 패치 이미지의 넓이 비율\r\n",
    "                lam = 1 - ((bbx2 - bbx1) * (bby2 - bby1) / (data.size()[-1] * data.size()[-2]))\r\n",
    "\r\n",
    "                # 예측은 레이블 1개\r\n",
    "                pred = self.model(data)\r\n",
    "\r\n",
    "                # 원본 이미지의 레이블과 패치 이미지의 레이블에 대해 loss 가중합\r\n",
    "                loss = self.criterion(pred, target_a) * lam + self.criterion(pred, target_b) * (1. - lam)\r\n",
    "            \r\n",
    "            # 컷믹스 안하면 그냥 별거 없음\r\n",
    "            else:\r\n",
    "                pred = self.model(data)\r\n",
    "                loss = self.criterion(pred, target)\r\n",
    "                \r\n",
    "                \r\n",
    "            self.optimizer.zero_grad()\r\n",
    "            loss.backward()\r\n",
    "            self.optimizer.step()"
   ],
   "outputs": [],
   "metadata": {}
  }
 ],
 "metadata": {
  "kernelspec": {
   "display_name": "desktop",
   "language": "python",
   "name": "desktop"
  },
  "language_info": {
   "codemirror_mode": {
    "name": "ipython",
    "version": 3
   },
   "file_extension": ".py",
   "mimetype": "text/x-python",
   "name": "python",
   "nbconvert_exporter": "python",
   "pygments_lexer": "ipython3",
   "version": "3.8.8"
  }
 },
 "nbformat": 4,
 "nbformat_minor": 5
}