{
 "cells": [
  {
   "cell_type": "markdown",
   "source": [
    "## Library"
   ],
   "metadata": {}
  },
  {
   "cell_type": "code",
   "execution_count": 21,
   "source": [
    "import numpy as np\n",
    "import pandas as pd\n",
    "import random\n",
    "from PIL import Image"
   ],
   "outputs": [],
   "metadata": {}
  },
  {
   "cell_type": "code",
   "execution_count": 22,
   "source": [
    "import torch\n",
    "from torch import nn\n",
    "import torch.nn.functional as F\n",
    "from torch.utils.data import Dataset, DataLoader, random_split\n",
    "\n",
    "from torchvision import transforms\n",
    "from torchvision.transforms import Resize, ToTensor, Normalize"
   ],
   "outputs": [],
   "metadata": {}
  },
  {
   "cell_type": "code",
   "execution_count": 23,
   "source": [
    "import warnings\n",
    "warnings.filterwarnings(\"ignore\")"
   ],
   "outputs": [],
   "metadata": {}
  },
  {
   "cell_type": "code",
   "execution_count": 24,
   "source": [
    "from PIL import ImageFile\n",
    "ImageFile.LOAD_TRUNCATED_IMAGES = True"
   ],
   "outputs": [],
   "metadata": {}
  },
  {
   "cell_type": "code",
   "execution_count": 48,
   "source": [
    "from tqdm import tqdm"
   ],
   "outputs": [],
   "metadata": {}
  },
  {
   "cell_type": "code",
   "execution_count": 25,
   "source": [
    "print (\"PyTorch version:[%s].\"%(torch.__version__))\n",
    "device = torch.device('cuda' if torch.cuda.is_available() else 'cpu') #'cuda:0'\n",
    "print (\"device:[%s].\"%(device))"
   ],
   "outputs": [
    {
     "output_type": "stream",
     "name": "stdout",
     "text": [
      "PyTorch version:[1.7.1].\n",
      "device:[cuda].\n"
     ]
    }
   ],
   "metadata": {}
  },
  {
   "cell_type": "code",
   "execution_count": 26,
   "source": [
    "# seed 고정\n",
    "def set_seed(random_seed):\n",
    "    torch.manual_seed(random_seed)\n",
    "    torch.cuda.manual_seed(random_seed)\n",
    "    torch.cuda.manual_seed_all(random_seed)  # if use multi-GPU\n",
    "    torch.backends.cudnn.deterministic = True\n",
    "    torch.backends.cudnn.benchmark = False\n",
    "    np.random.seed(random_seed)\n",
    "    random.seed(random_seed)\n",
    "    \n",
    "set_seed(42)"
   ],
   "outputs": [],
   "metadata": {}
  },
  {
   "cell_type": "markdown",
   "source": [
    "## Dataset"
   ],
   "metadata": {}
  },
  {
   "cell_type": "code",
   "execution_count": 27,
   "source": [
    "TRAIN_PATH = '/opt/ml/input/data/train/data.csv'"
   ],
   "outputs": [],
   "metadata": {}
  },
  {
   "cell_type": "code",
   "execution_count": 28,
   "source": [
    "class Custom_Dataset(Dataset):\n",
    "    def __init__(self, path, target, transforms, train=True):\n",
    "        self.train = train\n",
    "        self.path = path\n",
    "        self.transform = transforms\n",
    "        \n",
    "        self.data = pd.read_csv(path, index_col=0)\n",
    "        self.data = self.data.sample(frac=1).reset_index(drop=True)\n",
    "\n",
    "        if self.train:\n",
    "            self.data = self.data[:int(len(self.data) * 0.8)]\n",
    "        else:\n",
    "            self.data = self.data[int(len(self.data) * 0.8 + 1):]\n",
    "        \n",
    "        self.classes = np.sort(self.data[target].unique())\n",
    "        self.y = self.data[target]\n",
    "        self.X = []\n",
    "        \n",
    "        for path in self.data['path']:\n",
    "            im = Image.open(path)\n",
    "            self.X.append(im)\n",
    "        \n",
    "\n",
    "    def __len__(self):\n",
    "        return len(self.y)\n",
    "\n",
    "    def __getitem__(self, idx):\n",
    "        X, y = self.X[idx], self.y[idx]\n",
    "        if self.transform:\n",
    "          X = self.transform(X)\n",
    "        return X, torch.tensor(y, dtype=torch.long)"
   ],
   "outputs": [],
   "metadata": {}
  },
  {
   "cell_type": "code",
   "execution_count": 29,
   "source": [
    "# mean_r, mean_g, mean_b = 0.5601936, 0.52410126, 0.501457\n",
    "# std_r, std_g, std_b = 0.23318605, 0.24300034, 0.24567522\n",
    "mean_r, mean_g, mean_b = 0.5, 0.5, 0.5\n",
    "std_r, std_g, std_b = 0.2, 0.2, 0.2"
   ],
   "outputs": [],
   "metadata": {}
  },
  {
   "cell_type": "code",
   "execution_count": 30,
   "source": [
    "transform = transforms.Compose([\n",
    "    transforms.CenterCrop(384),\n",
    "    transforms.ToTensor(),\n",
    "    transforms.Normalize((mean_r, mean_g, mean_b),(std_r, std_g, std_b))\n",
    "])"
   ],
   "outputs": [],
   "metadata": {}
  },
  {
   "cell_type": "code",
   "execution_count": 31,
   "source": [
    "train_dataset = Custom_Dataset(path=TRAIN_PATH, target='class', transforms=transform, train=True)\n",
    "test_dataset = Custom_Dataset(path=TRAIN_PATH, target='class', transforms=transform, train=False)"
   ],
   "outputs": [],
   "metadata": {}
  },
  {
   "cell_type": "code",
   "execution_count": 32,
   "source": [
    "train_dataloader = DataLoader(train_dataset, batch_size=18, shuffle=True, num_workers=1)\n",
    "test_dataloader = DataLoader(test_dataset, batch_size=1, shuffle=True, num_workers=1)"
   ],
   "outputs": [],
   "metadata": {}
  },
  {
   "cell_type": "code",
   "execution_count": 33,
   "source": [
    "# Sample Image\n",
    "import matplotlib.pyplot as plt\n",
    "image, label = next(iter(train_dataset))\n",
    "\n",
    "image = image.permute(1,2,0)\n",
    "plt.imshow(image)\n",
    "\n",
    "print(image.shape)"
   ],
   "outputs": [
    {
     "output_type": "stream",
     "name": "stderr",
     "text": [
      "Clipping input data to the valid range for imshow with RGB data ([0..1] for floats or [0..255] for integers).\n"
     ]
    },
    {
     "output_type": "stream",
     "name": "stdout",
     "text": [
      "torch.Size([384, 384, 3])\n"
     ]
    },
    {
     "output_type": "display_data",
     "data": {
      "text/plain": [
       "<Figure size 432x288 with 1 Axes>"
      ],
      "image/svg+xml": "<?xml version=\"1.0\" encoding=\"utf-8\" standalone=\"no\"?>\n<!DOCTYPE svg PUBLIC \"-//W3C//DTD SVG 1.1//EN\"\n  \"http://www.w3.org/Graphics/SVG/1.1/DTD/svg11.dtd\">\n<!-- Created with matplotlib (https://matplotlib.org/) -->\n<svg height=\"252.034219pt\" version=\"1.1\" viewBox=\"0 0 257.9275 252.034219\" width=\"257.9275pt\" xmlns=\"http://www.w3.org/2000/svg\" xmlns:xlink=\"http://www.w3.org/1999/xlink\">\n <defs>\n  <style type=\"text/css\">\n*{stroke-linecap:butt;stroke-linejoin:round;}\n  </style>\n </defs>\n <g id=\"figure_1\">\n  <g id=\"patch_1\">\n   <path d=\"M 0 252.034219 \nL 257.9275 252.034219 \nL 257.9275 0 \nL 0 0 \nz\n\" style=\"fill:none;\"/>\n  </g>\n  <g id=\"axes_1\">\n   <g id=\"patch_2\">\n    <path d=\"M 33.2875 228.156094 \nL 250.7275 228.156094 \nL 250.7275 10.716094 \nL 33.2875 10.716094 \nz\n\" style=\"fill:#ffffff;\"/>\n   </g>\n   <g clip-path=\"url(#p2d5b7ac5a1)\">\n    <image height=\"218\" id=\"image6588f8a072\" transform=\"scale(1 -1)translate(0 -218)\" width=\"218\" x=\"33.2875\" xlink:href=\"data:image/png;base64,\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\" y=\"-10.156094\"/>\n   </g>\n   <g id=\"matplotlib.axis_1\">\n    <g id=\"xtick_1\">\n     <g id=\"line2d_1\">\n      <defs>\n       <path d=\"M 0 0 \nL 0 3.5 \n\" id=\"m2c636ed6a1\" style=\"stroke:#000000;stroke-width:0.8;\"/>\n      </defs>\n      <g>\n       <use style=\"stroke:#000000;stroke-width:0.8;\" x=\"33.570625\" xlink:href=\"#m2c636ed6a1\" y=\"228.156094\"/>\n      </g>\n     </g>\n     <g id=\"text_1\">\n      <!-- 0 -->\n      <defs>\n       <path d=\"M 31.78125 66.40625 \nQ 24.171875 66.40625 20.328125 58.90625 \nQ 16.5 51.421875 16.5 36.375 \nQ 16.5 21.390625 20.328125 13.890625 \nQ 24.171875 6.390625 31.78125 6.390625 \nQ 39.453125 6.390625 43.28125 13.890625 \nQ 47.125 21.390625 47.125 36.375 \nQ 47.125 51.421875 43.28125 58.90625 \nQ 39.453125 66.40625 31.78125 66.40625 \nz\nM 31.78125 74.21875 \nQ 44.046875 74.21875 50.515625 64.515625 \nQ 56.984375 54.828125 56.984375 36.375 \nQ 56.984375 17.96875 50.515625 8.265625 \nQ 44.046875 -1.421875 31.78125 -1.421875 \nQ 19.53125 -1.421875 13.0625 8.265625 \nQ 6.59375 17.96875 6.59375 36.375 \nQ 6.59375 54.828125 13.0625 64.515625 \nQ 19.53125 74.21875 31.78125 74.21875 \nz\n\" id=\"DejaVuSans-48\"/>\n      </defs>\n      <g transform=\"translate(30.389375 242.754531)scale(0.1 -0.1)\">\n       <use xlink:href=\"#DejaVuSans-48\"/>\n      </g>\n     </g>\n    </g>\n    <g id=\"xtick_2\">\n     <g id=\"line2d_2\">\n      <g>\n       <use style=\"stroke:#000000;stroke-width:0.8;\" x=\"90.195625\" xlink:href=\"#m2c636ed6a1\" y=\"228.156094\"/>\n      </g>\n     </g>\n     <g id=\"text_2\">\n      <!-- 100 -->\n      <defs>\n       <path d=\"M 12.40625 8.296875 \nL 28.515625 8.296875 \nL 28.515625 63.921875 \nL 10.984375 60.40625 \nL 10.984375 69.390625 \nL 28.421875 72.90625 \nL 38.28125 72.90625 \nL 38.28125 8.296875 \nL 54.390625 8.296875 \nL 54.390625 0 \nL 12.40625 0 \nz\n\" id=\"DejaVuSans-49\"/>\n      </defs>\n      <g transform=\"translate(80.651875 242.754531)scale(0.1 -0.1)\">\n       <use xlink:href=\"#DejaVuSans-49\"/>\n       <use x=\"63.623047\" xlink:href=\"#DejaVuSans-48\"/>\n       <use x=\"127.246094\" xlink:href=\"#DejaVuSans-48\"/>\n      </g>\n     </g>\n    </g>\n    <g id=\"xtick_3\">\n     <g id=\"line2d_3\">\n      <g>\n       <use style=\"stroke:#000000;stroke-width:0.8;\" x=\"146.820625\" xlink:href=\"#m2c636ed6a1\" y=\"228.156094\"/>\n      </g>\n     </g>\n     <g id=\"text_3\">\n      <!-- 200 -->\n      <defs>\n       <path d=\"M 19.1875 8.296875 \nL 53.609375 8.296875 \nL 53.609375 0 \nL 7.328125 0 \nL 7.328125 8.296875 \nQ 12.9375 14.109375 22.625 23.890625 \nQ 32.328125 33.6875 34.8125 36.53125 \nQ 39.546875 41.84375 41.421875 45.53125 \nQ 43.3125 49.21875 43.3125 52.78125 \nQ 43.3125 58.59375 39.234375 62.25 \nQ 35.15625 65.921875 28.609375 65.921875 \nQ 23.96875 65.921875 18.8125 64.3125 \nQ 13.671875 62.703125 7.8125 59.421875 \nL 7.8125 69.390625 \nQ 13.765625 71.78125 18.9375 73 \nQ 24.125 74.21875 28.421875 74.21875 \nQ 39.75 74.21875 46.484375 68.546875 \nQ 53.21875 62.890625 53.21875 53.421875 \nQ 53.21875 48.921875 51.53125 44.890625 \nQ 49.859375 40.875 45.40625 35.40625 \nQ 44.1875 33.984375 37.640625 27.21875 \nQ 31.109375 20.453125 19.1875 8.296875 \nz\n\" id=\"DejaVuSans-50\"/>\n      </defs>\n      <g transform=\"translate(137.276875 242.754531)scale(0.1 -0.1)\">\n       <use xlink:href=\"#DejaVuSans-50\"/>\n       <use x=\"63.623047\" xlink:href=\"#DejaVuSans-48\"/>\n       <use x=\"127.246094\" xlink:href=\"#DejaVuSans-48\"/>\n      </g>\n     </g>\n    </g>\n    <g id=\"xtick_4\">\n     <g id=\"line2d_4\">\n      <g>\n       <use style=\"stroke:#000000;stroke-width:0.8;\" x=\"203.445625\" xlink:href=\"#m2c636ed6a1\" y=\"228.156094\"/>\n      </g>\n     </g>\n     <g id=\"text_4\">\n      <!-- 300 -->\n      <defs>\n       <path d=\"M 40.578125 39.3125 \nQ 47.65625 37.796875 51.625 33 \nQ 55.609375 28.21875 55.609375 21.1875 \nQ 55.609375 10.40625 48.1875 4.484375 \nQ 40.765625 -1.421875 27.09375 -1.421875 \nQ 22.515625 -1.421875 17.65625 -0.515625 \nQ 12.796875 0.390625 7.625 2.203125 \nL 7.625 11.71875 \nQ 11.71875 9.328125 16.59375 8.109375 \nQ 21.484375 6.890625 26.8125 6.890625 \nQ 36.078125 6.890625 40.9375 10.546875 \nQ 45.796875 14.203125 45.796875 21.1875 \nQ 45.796875 27.640625 41.28125 31.265625 \nQ 36.765625 34.90625 28.71875 34.90625 \nL 20.21875 34.90625 \nL 20.21875 43.015625 \nL 29.109375 43.015625 \nQ 36.375 43.015625 40.234375 45.921875 \nQ 44.09375 48.828125 44.09375 54.296875 \nQ 44.09375 59.90625 40.109375 62.90625 \nQ 36.140625 65.921875 28.71875 65.921875 \nQ 24.65625 65.921875 20.015625 65.03125 \nQ 15.375 64.15625 9.8125 62.3125 \nL 9.8125 71.09375 \nQ 15.4375 72.65625 20.34375 73.4375 \nQ 25.25 74.21875 29.59375 74.21875 \nQ 40.828125 74.21875 47.359375 69.109375 \nQ 53.90625 64.015625 53.90625 55.328125 \nQ 53.90625 49.265625 50.4375 45.09375 \nQ 46.96875 40.921875 40.578125 39.3125 \nz\n\" id=\"DejaVuSans-51\"/>\n      </defs>\n      <g transform=\"translate(193.901875 242.754531)scale(0.1 -0.1)\">\n       <use xlink:href=\"#DejaVuSans-51\"/>\n       <use x=\"63.623047\" xlink:href=\"#DejaVuSans-48\"/>\n       <use x=\"127.246094\" xlink:href=\"#DejaVuSans-48\"/>\n      </g>\n     </g>\n    </g>\n   </g>\n   <g id=\"matplotlib.axis_2\">\n    <g id=\"ytick_1\">\n     <g id=\"line2d_5\">\n      <defs>\n       <path d=\"M 0 0 \nL -3.5 0 \n\" id=\"m557539e1cc\" style=\"stroke:#000000;stroke-width:0.8;\"/>\n      </defs>\n      <g>\n       <use style=\"stroke:#000000;stroke-width:0.8;\" x=\"33.2875\" xlink:href=\"#m557539e1cc\" y=\"10.999219\"/>\n      </g>\n     </g>\n     <g id=\"text_5\">\n      <!-- 0 -->\n      <g transform=\"translate(19.925 14.798437)scale(0.1 -0.1)\">\n       <use xlink:href=\"#DejaVuSans-48\"/>\n      </g>\n     </g>\n    </g>\n    <g id=\"ytick_2\">\n     <g id=\"line2d_6\">\n      <g>\n       <use style=\"stroke:#000000;stroke-width:0.8;\" x=\"33.2875\" xlink:href=\"#m557539e1cc\" y=\"39.311719\"/>\n      </g>\n     </g>\n     <g id=\"text_6\">\n      <!-- 50 -->\n      <defs>\n       <path d=\"M 10.796875 72.90625 \nL 49.515625 72.90625 \nL 49.515625 64.59375 \nL 19.828125 64.59375 \nL 19.828125 46.734375 \nQ 21.96875 47.46875 24.109375 47.828125 \nQ 26.265625 48.1875 28.421875 48.1875 \nQ 40.625 48.1875 47.75 41.5 \nQ 54.890625 34.8125 54.890625 23.390625 \nQ 54.890625 11.625 47.5625 5.09375 \nQ 40.234375 -1.421875 26.90625 -1.421875 \nQ 22.3125 -1.421875 17.546875 -0.640625 \nQ 12.796875 0.140625 7.71875 1.703125 \nL 7.71875 11.625 \nQ 12.109375 9.234375 16.796875 8.0625 \nQ 21.484375 6.890625 26.703125 6.890625 \nQ 35.15625 6.890625 40.078125 11.328125 \nQ 45.015625 15.765625 45.015625 23.390625 \nQ 45.015625 31 40.078125 35.4375 \nQ 35.15625 39.890625 26.703125 39.890625 \nQ 22.75 39.890625 18.8125 39.015625 \nQ 14.890625 38.140625 10.796875 36.28125 \nz\n\" id=\"DejaVuSans-53\"/>\n      </defs>\n      <g transform=\"translate(13.5625 43.110937)scale(0.1 -0.1)\">\n       <use xlink:href=\"#DejaVuSans-53\"/>\n       <use x=\"63.623047\" xlink:href=\"#DejaVuSans-48\"/>\n      </g>\n     </g>\n    </g>\n    <g id=\"ytick_3\">\n     <g id=\"line2d_7\">\n      <g>\n       <use style=\"stroke:#000000;stroke-width:0.8;\" x=\"33.2875\" xlink:href=\"#m557539e1cc\" y=\"67.624219\"/>\n      </g>\n     </g>\n     <g id=\"text_7\">\n      <!-- 100 -->\n      <g transform=\"translate(7.2 71.423437)scale(0.1 -0.1)\">\n       <use xlink:href=\"#DejaVuSans-49\"/>\n       <use x=\"63.623047\" xlink:href=\"#DejaVuSans-48\"/>\n       <use x=\"127.246094\" xlink:href=\"#DejaVuSans-48\"/>\n      </g>\n     </g>\n    </g>\n    <g id=\"ytick_4\">\n     <g id=\"line2d_8\">\n      <g>\n       <use style=\"stroke:#000000;stroke-width:0.8;\" x=\"33.2875\" xlink:href=\"#m557539e1cc\" y=\"95.936719\"/>\n      </g>\n     </g>\n     <g id=\"text_8\">\n      <!-- 150 -->\n      <g transform=\"translate(7.2 99.735937)scale(0.1 -0.1)\">\n       <use xlink:href=\"#DejaVuSans-49\"/>\n       <use x=\"63.623047\" xlink:href=\"#DejaVuSans-53\"/>\n       <use x=\"127.246094\" xlink:href=\"#DejaVuSans-48\"/>\n      </g>\n     </g>\n    </g>\n    <g id=\"ytick_5\">\n     <g id=\"line2d_9\">\n      <g>\n       <use style=\"stroke:#000000;stroke-width:0.8;\" x=\"33.2875\" xlink:href=\"#m557539e1cc\" y=\"124.249219\"/>\n      </g>\n     </g>\n     <g id=\"text_9\">\n      <!-- 200 -->\n      <g transform=\"translate(7.2 128.048437)scale(0.1 -0.1)\">\n       <use xlink:href=\"#DejaVuSans-50\"/>\n       <use x=\"63.623047\" xlink:href=\"#DejaVuSans-48\"/>\n       <use x=\"127.246094\" xlink:href=\"#DejaVuSans-48\"/>\n      </g>\n     </g>\n    </g>\n    <g id=\"ytick_6\">\n     <g id=\"line2d_10\">\n      <g>\n       <use style=\"stroke:#000000;stroke-width:0.8;\" x=\"33.2875\" xlink:href=\"#m557539e1cc\" y=\"152.561719\"/>\n      </g>\n     </g>\n     <g id=\"text_10\">\n      <!-- 250 -->\n      <g transform=\"translate(7.2 156.360937)scale(0.1 -0.1)\">\n       <use xlink:href=\"#DejaVuSans-50\"/>\n       <use x=\"63.623047\" xlink:href=\"#DejaVuSans-53\"/>\n       <use x=\"127.246094\" xlink:href=\"#DejaVuSans-48\"/>\n      </g>\n     </g>\n    </g>\n    <g id=\"ytick_7\">\n     <g id=\"line2d_11\">\n      <g>\n       <use style=\"stroke:#000000;stroke-width:0.8;\" x=\"33.2875\" xlink:href=\"#m557539e1cc\" y=\"180.874219\"/>\n      </g>\n     </g>\n     <g id=\"text_11\">\n      <!-- 300 -->\n      <g transform=\"translate(7.2 184.673437)scale(0.1 -0.1)\">\n       <use xlink:href=\"#DejaVuSans-51\"/>\n       <use x=\"63.623047\" xlink:href=\"#DejaVuSans-48\"/>\n       <use x=\"127.246094\" xlink:href=\"#DejaVuSans-48\"/>\n      </g>\n     </g>\n    </g>\n    <g id=\"ytick_8\">\n     <g id=\"line2d_12\">\n      <g>\n       <use style=\"stroke:#000000;stroke-width:0.8;\" x=\"33.2875\" xlink:href=\"#m557539e1cc\" y=\"209.186719\"/>\n      </g>\n     </g>\n     <g id=\"text_12\">\n      <!-- 350 -->\n      <g transform=\"translate(7.2 212.985937)scale(0.1 -0.1)\">\n       <use xlink:href=\"#DejaVuSans-51\"/>\n       <use x=\"63.623047\" xlink:href=\"#DejaVuSans-53\"/>\n       <use x=\"127.246094\" xlink:href=\"#DejaVuSans-48\"/>\n      </g>\n     </g>\n    </g>\n   </g>\n   <g id=\"patch_3\">\n    <path d=\"M 33.2875 228.156094 \nL 33.2875 10.716094 \n\" style=\"fill:none;stroke:#000000;stroke-linecap:square;stroke-linejoin:miter;stroke-width:0.8;\"/>\n   </g>\n   <g id=\"patch_4\">\n    <path d=\"M 250.7275 228.156094 \nL 250.7275 10.716094 \n\" style=\"fill:none;stroke:#000000;stroke-linecap:square;stroke-linejoin:miter;stroke-width:0.8;\"/>\n   </g>\n   <g id=\"patch_5\">\n    <path d=\"M 33.2875 228.156094 \nL 250.7275 228.156094 \n\" style=\"fill:none;stroke:#000000;stroke-linecap:square;stroke-linejoin:miter;stroke-width:0.8;\"/>\n   </g>\n   <g id=\"patch_6\">\n    <path d=\"M 33.2875 10.716094 \nL 250.7275 10.716094 \n\" style=\"fill:none;stroke:#000000;stroke-linecap:square;stroke-linejoin:miter;stroke-width:0.8;\"/>\n   </g>\n  </g>\n </g>\n <defs>\n  <clipPath id=\"p2d5b7ac5a1\">\n   <rect height=\"217.44\" width=\"217.44\" x=\"33.2875\" y=\"10.716094\"/>\n  </clipPath>\n </defs>\n</svg>\n",
      "image/png": "[encoded data removed]"
     },
     "metadata": {
      "needs_background": "light"
     }
    }
   ],
   "metadata": {}
  },
  {
   "cell_type": "markdown",
   "source": [
    "## Model"
   ],
   "metadata": {}
  },
  {
   "cell_type": "code",
   "execution_count": 34,
   "source": [
    "import timm\n",
    "\n",
    "model = timm.create_model(\"vit_base_patch16_384\", pretrained=True)\n"
   ],
   "outputs": [],
   "metadata": {}
  },
  {
   "cell_type": "code",
   "execution_count": 35,
   "source": [
    "in_ftr = model.head.in_features\n",
    "model.head = nn.Linear(in_ftr, 18)"
   ],
   "outputs": [],
   "metadata": {}
  },
  {
   "cell_type": "code",
   "execution_count": 36,
   "source": [
    "model.train()"
   ],
   "outputs": [
    {
     "output_type": "execute_result",
     "data": {
      "text/plain": [
       "VisionTransformer(\n",
       "  (patch_embed): PatchEmbed(\n",
       "    (proj): Conv2d(3, 768, kernel_size=(16, 16), stride=(16, 16))\n",
       "    (norm): Identity()\n",
       "  )\n",
       "  (pos_drop): Dropout(p=0.0, inplace=False)\n",
       "  (blocks): Sequential(\n",
       "    (0): Block(\n",
       "      (norm1): LayerNorm((768,), eps=1e-06, elementwise_affine=True)\n",
       "      (attn): Attention(\n",
       "        (qkv): Linear(in_features=768, out_features=2304, bias=True)\n",
       "        (attn_drop): Dropout(p=0.0, inplace=False)\n",
       "        (proj): Linear(in_features=768, out_features=768, bias=True)\n",
       "        (proj_drop): Dropout(p=0.0, inplace=False)\n",
       "      )\n",
       "      (drop_path): Identity()\n",
       "      (norm2): LayerNorm((768,), eps=1e-06, elementwise_affine=True)\n",
       "      (mlp): Mlp(\n",
       "        (fc1): Linear(in_features=768, out_features=3072, bias=True)\n",
       "        (act): GELU()\n",
       "        (fc2): Linear(in_features=3072, out_features=768, bias=True)\n",
       "        (drop): Dropout(p=0.0, inplace=False)\n",
       "      )\n",
       "    )\n",
       "    (1): Block(\n",
       "      (norm1): LayerNorm((768,), eps=1e-06, elementwise_affine=True)\n",
       "      (attn): Attention(\n",
       "        (qkv): Linear(in_features=768, out_features=2304, bias=True)\n",
       "        (attn_drop): Dropout(p=0.0, inplace=False)\n",
       "        (proj): Linear(in_features=768, out_features=768, bias=True)\n",
       "        (proj_drop): Dropout(p=0.0, inplace=False)\n",
       "      )\n",
       "      (drop_path): Identity()\n",
       "      (norm2): LayerNorm((768,), eps=1e-06, elementwise_affine=True)\n",
       "      (mlp): Mlp(\n",
       "        (fc1): Linear(in_features=768, out_features=3072, bias=True)\n",
       "        (act): GELU()\n",
       "        (fc2): Linear(in_features=3072, out_features=768, bias=True)\n",
       "        (drop): Dropout(p=0.0, inplace=False)\n",
       "      )\n",
       "    )\n",
       "    (2): Block(\n",
       "      (norm1): LayerNorm((768,), eps=1e-06, elementwise_affine=True)\n",
       "      (attn): Attention(\n",
       "        (qkv): Linear(in_features=768, out_features=2304, bias=True)\n",
       "        (attn_drop): Dropout(p=0.0, inplace=False)\n",
       "        (proj): Linear(in_features=768, out_features=768, bias=True)\n",
       "        (proj_drop): Dropout(p=0.0, inplace=False)\n",
       "      )\n",
       "      (drop_path): Identity()\n",
       "      (norm2): LayerNorm((768,), eps=1e-06, elementwise_affine=True)\n",
       "      (mlp): Mlp(\n",
       "        (fc1): Linear(in_features=768, out_features=3072, bias=True)\n",
       "        (act): GELU()\n",
       "        (fc2): Linear(in_features=3072, out_features=768, bias=True)\n",
       "        (drop): Dropout(p=0.0, inplace=False)\n",
       "      )\n",
       "    )\n",
       "    (3): Block(\n",
       "      (norm1): LayerNorm((768,), eps=1e-06, elementwise_affine=True)\n",
       "      (attn): Attention(\n",
       "        (qkv): Linear(in_features=768, out_features=2304, bias=True)\n",
       "        (attn_drop): Dropout(p=0.0, inplace=False)\n",
       "        (proj): Linear(in_features=768, out_features=768, bias=True)\n",
       "        (proj_drop): Dropout(p=0.0, inplace=False)\n",
       "      )\n",
       "      (drop_path): Identity()\n",
       "      (norm2): LayerNorm((768,), eps=1e-06, elementwise_affine=True)\n",
       "      (mlp): Mlp(\n",
       "        (fc1): Linear(in_features=768, out_features=3072, bias=True)\n",
       "        (act): GELU()\n",
       "        (fc2): Linear(in_features=3072, out_features=768, bias=True)\n",
       "        (drop): Dropout(p=0.0, inplace=False)\n",
       "      )\n",
       "    )\n",
       "    (4): Block(\n",
       "      (norm1): LayerNorm((768,), eps=1e-06, elementwise_affine=True)\n",
       "      (attn): Attention(\n",
       "        (qkv): Linear(in_features=768, out_features=2304, bias=True)\n",
       "        (attn_drop): Dropout(p=0.0, inplace=False)\n",
       "        (proj): Linear(in_features=768, out_features=768, bias=True)\n",
       "        (proj_drop): Dropout(p=0.0, inplace=False)\n",
       "      )\n",
       "      (drop_path): Identity()\n",
       "      (norm2): LayerNorm((768,), eps=1e-06, elementwise_affine=True)\n",
       "      (mlp): Mlp(\n",
       "        (fc1): Linear(in_features=768, out_features=3072, bias=True)\n",
       "        (act): GELU()\n",
       "        (fc2): Linear(in_features=3072, out_features=768, bias=True)\n",
       "        (drop): Dropout(p=0.0, inplace=False)\n",
       "      )\n",
       "    )\n",
       "    (5): Block(\n",
       "      (norm1): LayerNorm((768,), eps=1e-06, elementwise_affine=True)\n",
       "      (attn): Attention(\n",
       "        (qkv): Linear(in_features=768, out_features=2304, bias=True)\n",
       "        (attn_drop): Dropout(p=0.0, inplace=False)\n",
       "        (proj): Linear(in_features=768, out_features=768, bias=True)\n",
       "        (proj_drop): Dropout(p=0.0, inplace=False)\n",
       "      )\n",
       "      (drop_path): Identity()\n",
       "      (norm2): LayerNorm((768,), eps=1e-06, elementwise_affine=True)\n",
       "      (mlp): Mlp(\n",
       "        (fc1): Linear(in_features=768, out_features=3072, bias=True)\n",
       "        (act): GELU()\n",
       "        (fc2): Linear(in_features=3072, out_features=768, bias=True)\n",
       "        (drop): Dropout(p=0.0, inplace=False)\n",
       "      )\n",
       "    )\n",
       "    (6): Block(\n",
       "      (norm1): LayerNorm((768,), eps=1e-06, elementwise_affine=True)\n",
       "      (attn): Attention(\n",
       "        (qkv): Linear(in_features=768, out_features=2304, bias=True)\n",
       "        (attn_drop): Dropout(p=0.0, inplace=False)\n",
       "        (proj): Linear(in_features=768, out_features=768, bias=True)\n",
       "        (proj_drop): Dropout(p=0.0, inplace=False)\n",
       "      )\n",
       "      (drop_path): Identity()\n",
       "      (norm2): LayerNorm((768,), eps=1e-06, elementwise_affine=True)\n",
       "      (mlp): Mlp(\n",
       "        (fc1): Linear(in_features=768, out_features=3072, bias=True)\n",
       "        (act): GELU()\n",
       "        (fc2): Linear(in_features=3072, out_features=768, bias=True)\n",
       "        (drop): Dropout(p=0.0, inplace=False)\n",
       "      )\n",
       "    )\n",
       "    (7): Block(\n",
       "      (norm1): LayerNorm((768,), eps=1e-06, elementwise_affine=True)\n",
       "      (attn): Attention(\n",
       "        (qkv): Linear(in_features=768, out_features=2304, bias=True)\n",
       "        (attn_drop): Dropout(p=0.0, inplace=False)\n",
       "        (proj): Linear(in_features=768, out_features=768, bias=True)\n",
       "        (proj_drop): Dropout(p=0.0, inplace=False)\n",
       "      )\n",
       "      (drop_path): Identity()\n",
       "      (norm2): LayerNorm((768,), eps=1e-06, elementwise_affine=True)\n",
       "      (mlp): Mlp(\n",
       "        (fc1): Linear(in_features=768, out_features=3072, bias=True)\n",
       "        (act): GELU()\n",
       "        (fc2): Linear(in_features=3072, out_features=768, bias=True)\n",
       "        (drop): Dropout(p=0.0, inplace=False)\n",
       "      )\n",
       "    )\n",
       "    (8): Block(\n",
       "      (norm1): LayerNorm((768,), eps=1e-06, elementwise_affine=True)\n",
       "      (attn): Attention(\n",
       "        (qkv): Linear(in_features=768, out_features=2304, bias=True)\n",
       "        (attn_drop): Dropout(p=0.0, inplace=False)\n",
       "        (proj): Linear(in_features=768, out_features=768, bias=True)\n",
       "        (proj_drop): Dropout(p=0.0, inplace=False)\n",
       "      )\n",
       "      (drop_path): Identity()\n",
       "      (norm2): LayerNorm((768,), eps=1e-06, elementwise_affine=True)\n",
       "      (mlp): Mlp(\n",
       "        (fc1): Linear(in_features=768, out_features=3072, bias=True)\n",
       "        (act): GELU()\n",
       "        (fc2): Linear(in_features=3072, out_features=768, bias=True)\n",
       "        (drop): Dropout(p=0.0, inplace=False)\n",
       "      )\n",
       "    )\n",
       "    (9): Block(\n",
       "      (norm1): LayerNorm((768,), eps=1e-06, elementwise_affine=True)\n",
       "      (attn): Attention(\n",
       "        (qkv): Linear(in_features=768, out_features=2304, bias=True)\n",
       "        (attn_drop): Dropout(p=0.0, inplace=False)\n",
       "        (proj): Linear(in_features=768, out_features=768, bias=True)\n",
       "        (proj_drop): Dropout(p=0.0, inplace=False)\n",
       "      )\n",
       "      (drop_path): Identity()\n",
       "      (norm2): LayerNorm((768,), eps=1e-06, elementwise_affine=True)\n",
       "      (mlp): Mlp(\n",
       "        (fc1): Linear(in_features=768, out_features=3072, bias=True)\n",
       "        (act): GELU()\n",
       "        (fc2): Linear(in_features=3072, out_features=768, bias=True)\n",
       "        (drop): Dropout(p=0.0, inplace=False)\n",
       "      )\n",
       "    )\n",
       "    (10): Block(\n",
       "      (norm1): LayerNorm((768,), eps=1e-06, elementwise_affine=True)\n",
       "      (attn): Attention(\n",
       "        (qkv): Linear(in_features=768, out_features=2304, bias=True)\n",
       "        (attn_drop): Dropout(p=0.0, inplace=False)\n",
       "        (proj): Linear(in_features=768, out_features=768, bias=True)\n",
       "        (proj_drop): Dropout(p=0.0, inplace=False)\n",
       "      )\n",
       "      (drop_path): Identity()\n",
       "      (norm2): LayerNorm((768,), eps=1e-06, elementwise_affine=True)\n",
       "      (mlp): Mlp(\n",
       "        (fc1): Linear(in_features=768, out_features=3072, bias=True)\n",
       "        (act): GELU()\n",
       "        (fc2): Linear(in_features=3072, out_features=768, bias=True)\n",
       "        (drop): Dropout(p=0.0, inplace=False)\n",
       "      )\n",
       "    )\n",
       "    (11): Block(\n",
       "      (norm1): LayerNorm((768,), eps=1e-06, elementwise_affine=True)\n",
       "      (attn): Attention(\n",
       "        (qkv): Linear(in_features=768, out_features=2304, bias=True)\n",
       "        (attn_drop): Dropout(p=0.0, inplace=False)\n",
       "        (proj): Linear(in_features=768, out_features=768, bias=True)\n",
       "        (proj_drop): Dropout(p=0.0, inplace=False)\n",
       "      )\n",
       "      (drop_path): Identity()\n",
       "      (norm2): LayerNorm((768,), eps=1e-06, elementwise_affine=True)\n",
       "      (mlp): Mlp(\n",
       "        (fc1): Linear(in_features=768, out_features=3072, bias=True)\n",
       "        (act): GELU()\n",
       "        (fc2): Linear(in_features=3072, out_features=768, bias=True)\n",
       "        (drop): Dropout(p=0.0, inplace=False)\n",
       "      )\n",
       "    )\n",
       "  )\n",
       "  (norm): LayerNorm((768,), eps=1e-06, elementwise_affine=True)\n",
       "  (pre_logits): Identity()\n",
       "  (head): Linear(in_features=768, out_features=18, bias=True)\n",
       ")"
      ]
     },
     "metadata": {},
     "execution_count": 36
    }
   ],
   "metadata": {}
  },
  {
   "cell_type": "code",
   "execution_count": 64,
   "source": [
    "model.to(device)\n",
    "\n",
    "lr_rate = 1\n",
    "epochs = 10\n",
    "\n",
    "loss_fn = nn.CrossEntropyLoss()\n",
    "optimizer = torch.optim.Adam(model.parameters(), lr=lr_rate)\n",
    "\n",
    "scheduler = torch.optim.lr_scheduler.ReduceLROnPlateau(optimizer, factor=0.5, mode='min', patience=2)"
   ],
   "outputs": [],
   "metadata": {}
  },
  {
   "cell_type": "code",
   "execution_count": 65,
   "source": [
    "for epoch in range(epochs):\n",
    "    loss_total = 0\n",
    "    for index, (images, labels) in enumerate(tqdm(train_dataloader)):\n",
    "        images = images.to(device)\n",
    "        labels = labels.to(device)\n",
    "        \n",
    "        optimizer.zero_grad()\n",
    "        preds = model(images)\n",
    "        \n",
    "        loss = loss_fn(preds, labels)\n",
    "        loss.backward()\n",
    "        scheduler.step(1)\n",
    "        loss_total += loss.item() * image.size(0)\n",
    "    \n",
    "    epoch_loss = loss_total / len(train_dataloader.dataset)\n",
    "    print(f'epoch: {epoch}, loss: {epoch_loss}')\n",
    "    "
   ],
   "outputs": [
    {
     "output_type": "stream",
     "name": "stderr",
     "text": [
      "100%|██████████| 840/840 [08:55<00:00,  1.57it/s]\n",
      "  0%|          | 0/840 [00:00<?, ?it/s]"
     ]
    },
    {
     "output_type": "stream",
     "name": "stdout",
     "text": [
      "epoch: 0, loss: 47.84774100288512\n"
     ]
    },
    {
     "output_type": "stream",
     "name": "stderr",
     "text": [
      "100%|██████████| 840/840 [08:54<00:00,  1.57it/s]\n",
      "  0%|          | 0/840 [00:00<?, ?it/s]"
     ]
    },
    {
     "output_type": "stream",
     "name": "stdout",
     "text": [
      "epoch: 1, loss: 47.84774084242564\n"
     ]
    },
    {
     "output_type": "stream",
     "name": "stderr",
     "text": [
      " 76%|███████▌  | 636/840 [06:44<02:10,  1.57it/s]"
     ]
    }
   ],
   "metadata": {}
  },
  {
   "cell_type": "code",
   "execution_count": null,
   "source": [],
   "outputs": [],
   "metadata": {}
  }
 ],
 "metadata": {
  "orig_nbformat": 4,
  "language_info": {
   "name": "python",
   "version": "3.8.5",
   "mimetype": "text/x-python",
   "codemirror_mode": {
    "name": "ipython",
    "version": 3
   },
   "pygments_lexer": "ipython3",
   "nbconvert_exporter": "python",
   "file_extension": ".py"
  },
  "kernelspec": {
   "name": "python3",
   "display_name": "Python 3.8.5 64-bit ('base': conda)"
  },
  "interpreter": {
   "hash": "98b0a9b7b4eaaa670588a142fd0a9b87eaafe866f1db4228be72b4211d12040f"
  }
 },
 "nbformat": 4,
 "nbformat_minor": 2
}